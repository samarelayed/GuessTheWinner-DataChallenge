{
 "cells": [
  {
   "cell_type": "code",
   "execution_count": null,
   "metadata": {},
   "outputs": [],
   "source": [
    "import pandas as pd\n",
    "import numpy as np\n",
    "from tqdm import tqdm\n",
    "from sklearn import model_selection\n",
    "from sklearn.metrics import accuracy_score, confusion_matrix, ConfusionMatrixDisplay\n",
    "from sklearn.linear_model import LogisticRegression\n",
    "import xgboost as xgb\n",
    "import warnings\n",
    "import matplotlib.pyplot as plt\n",
    "from sklearn.model_selection import train_test_split, GridSearchCV, learning_curve\n",
    "from sklearn.metrics import accuracy_score, classification_report\n",
    "from sklearn.ensemble import GradientBoostingClassifier\n",
    "from sklearn.utils.class_weight import compute_class_weight\n",
    "from sklearn.impute import SimpleImputer\n",
    "from sklearn.decomposition import PCA\n",
    "from sklearn.preprocessing import StandardScaler\n",
    "from sklearn.neighbors import KNeighborsClassifier\n",
    "from xgboost import XGBClassifier, plot_importance\n",
    "\n",
    "\n",
    "warnings.filterwarnings('ignore')"
   ]
  },
  {
   "cell_type": "code",
   "execution_count": 66,
   "metadata": {},
   "outputs": [],
   "source": [
    "file_path = \"C:/Users/samar/OneDrive/Desktop/mathapp/APST/dataChallenge\""
   ]
  },
  {
   "cell_type": "code",
   "execution_count": 67,
   "metadata": {},
   "outputs": [],
   "source": [
    "away_player_train = file_path + \"/Train_Data/train_away_player_statistics_df.csv\"\n",
    "away_team_train = file_path + \"/Train_Data/train_away_team_statistics_df.csv\"\n",
    "home_player_train = file_path + \"/Train_Data/train_home_player_statistics_df.csv\"\n",
    "home_team_train = file_path + \"/Train_Data/train_home_team_statistics_df.csv\""
   ]
  },
  {
   "cell_type": "code",
   "execution_count": 68,
   "metadata": {},
   "outputs": [],
   "source": [
    "away_player_test = file_path + \"/Test_Data/test_away_player_statistics_df.csv\"\n",
    "away_team_test = file_path + \"/Test_Data/test_away_team_statistics_df.csv\"\n",
    "home_player_test = file_path + \"/Test_Data/test_home_player_statistics_df.csv\"\n",
    "home_team_test = file_path + \"/Test_Data/test_home_team_statistics_df.csv\""
   ]
  },
  {
   "cell_type": "code",
   "execution_count": 69,
   "metadata": {},
   "outputs": [],
   "source": [
    "Y_train_supp = file_path + \"/benchmark_and_extras/Y_train_supp.csv\"\n",
    "Y_train = file_path + \"/Y_train.csv\"\n",
    "Y_test_random = file_path + \"/Y_test_random.csv\""
   ]
  },
  {
   "cell_type": "markdown",
   "metadata": {},
   "source": [
    "## Read player train data"
   ]
  },
  {
   "cell_type": "code",
   "execution_count": 70,
   "metadata": {},
   "outputs": [],
   "source": [
    "\n",
    "home_players = pd.read_csv(home_player_train)\n",
    "away_players = pd.read_csv(away_player_train)\n",
    "\n",
    "# team_name and league and player_name are not included in the test dataset so no need to use it\n",
    "home_players = home_players.drop(columns=['TEAM_NAME', 'LEAGUE', 'PLAYER_NAME'])\n",
    "away_players = away_players.drop(columns=['TEAM_NAME', 'LEAGUE', 'PLAYER_NAME'])\n",
    "\n",
    "home_players['POSITION'] = home_players['POSITION'].replace({'defender': 1, 'midfielder': 2, 'attacker': 3, 'goalkeeper': 4, '': 0, np.nan: 0})\n",
    "away_players['POSITION'] = away_players['POSITION'].replace({'defender': 1, 'midfielder': 2, 'attacker': 3, 'goalkeeper': 4, '': 0, np.nan: 0})"
   ]
  },
  {
   "cell_type": "code",
   "execution_count": 71,
   "metadata": {},
   "outputs": [],
   "source": [
    "# Aggregate player stats by ID and POSITION \n",
    "home_team_stats = home_players.groupby(by = ['ID', 'POSITION'], as_index= False).mean().fillna(0)\n",
    "away_team_stats = away_players.groupby(by = ['ID', 'POSITION'], as_index= False).mean().fillna(0)\n",
    "\n",
    "team_comparison = pd.merge(home_team_stats, away_team_stats, on=['ID', 'POSITION'], suffixes=('_home', '_away'))\n"
   ]
  },
  {
   "cell_type": "code",
   "execution_count": 72,
   "metadata": {},
   "outputs": [
    {
     "data": {
      "text/html": [
       "<div>\n",
       "<style scoped>\n",
       "    .dataframe tbody tr th:only-of-type {\n",
       "        vertical-align: middle;\n",
       "    }\n",
       "\n",
       "    .dataframe tbody tr th {\n",
       "        vertical-align: top;\n",
       "    }\n",
       "\n",
       "    .dataframe thead th {\n",
       "        text-align: right;\n",
       "    }\n",
       "</style>\n",
       "<table border=\"1\" class=\"dataframe\">\n",
       "  <thead>\n",
       "    <tr style=\"text-align: right;\">\n",
       "      <th></th>\n",
       "      <th>ID</th>\n",
       "      <th>POSITION</th>\n",
       "      <th>PLAYER_ACCURATE_CROSSES_season_sum_home</th>\n",
       "      <th>PLAYER_ACCURATE_PASSES_season_sum_home</th>\n",
       "      <th>PLAYER_AERIALS_WON_season_sum_home</th>\n",
       "      <th>PLAYER_ASSISTS_season_sum_home</th>\n",
       "      <th>PLAYER_BIG_CHANCES_CREATED_season_sum_home</th>\n",
       "      <th>PLAYER_BIG_CHANCES_MISSED_season_sum_home</th>\n",
       "      <th>PLAYER_BLOCKED_SHOTS_season_sum_home</th>\n",
       "      <th>PLAYER_CAPTAIN_season_sum_home</th>\n",
       "      <th>...</th>\n",
       "      <th>PLAYER_STARTING_LINEUP_5_last_match_std_away</th>\n",
       "      <th>PLAYER_SUCCESSFUL_DRIBBLES_5_last_match_std_away</th>\n",
       "      <th>PLAYER_TACKLES_5_last_match_std_away</th>\n",
       "      <th>PLAYER_TOTAL_CROSSES_5_last_match_std_away</th>\n",
       "      <th>PLAYER_TOTAL_DUELS_5_last_match_std_away</th>\n",
       "      <th>PLAYER_YELLOWCARDS_5_last_match_std_away</th>\n",
       "      <th>PLAYER_PUNCHES_5_last_match_std_away</th>\n",
       "      <th>PLAYER_LONG_BALLS_5_last_match_std_away</th>\n",
       "      <th>PLAYER_LONG_BALLS_WON_5_last_match_std_away</th>\n",
       "      <th>PLAYER_SHOTS_OFF_TARGET_5_last_match_std_away</th>\n",
       "    </tr>\n",
       "  </thead>\n",
       "  <tbody>\n",
       "    <tr>\n",
       "      <th>0</th>\n",
       "      <td>0</td>\n",
       "      <td>0.0</td>\n",
       "      <td>3.25</td>\n",
       "      <td>12.000000</td>\n",
       "      <td>21.250000</td>\n",
       "      <td>10.500000</td>\n",
       "      <td>6.000000</td>\n",
       "      <td>21.500000</td>\n",
       "      <td>3.000000</td>\n",
       "      <td>0.0</td>\n",
       "      <td>...</td>\n",
       "      <td>36.166667</td>\n",
       "      <td>26.000000</td>\n",
       "      <td>21.000000</td>\n",
       "      <td>25.833333</td>\n",
       "      <td>35.333333</td>\n",
       "      <td>38.5</td>\n",
       "      <td>0.0</td>\n",
       "      <td>0.0</td>\n",
       "      <td>0.0</td>\n",
       "      <td>0.0</td>\n",
       "    </tr>\n",
       "    <tr>\n",
       "      <th>1</th>\n",
       "      <td>0</td>\n",
       "      <td>1.0</td>\n",
       "      <td>4.00</td>\n",
       "      <td>27.166667</td>\n",
       "      <td>22.166667</td>\n",
       "      <td>7.000000</td>\n",
       "      <td>5.333333</td>\n",
       "      <td>0.000000</td>\n",
       "      <td>17.500000</td>\n",
       "      <td>0.0</td>\n",
       "      <td>...</td>\n",
       "      <td>17.500000</td>\n",
       "      <td>36.250000</td>\n",
       "      <td>40.000000</td>\n",
       "      <td>17.750000</td>\n",
       "      <td>42.250000</td>\n",
       "      <td>67.5</td>\n",
       "      <td>0.0</td>\n",
       "      <td>0.0</td>\n",
       "      <td>0.0</td>\n",
       "      <td>0.0</td>\n",
       "    </tr>\n",
       "    <tr>\n",
       "      <th>2</th>\n",
       "      <td>0</td>\n",
       "      <td>2.0</td>\n",
       "      <td>24.50</td>\n",
       "      <td>23.333333</td>\n",
       "      <td>9.166667</td>\n",
       "      <td>9.333333</td>\n",
       "      <td>12.333333</td>\n",
       "      <td>4.166667</td>\n",
       "      <td>8.166667</td>\n",
       "      <td>45.5</td>\n",
       "      <td>...</td>\n",
       "      <td>28.000000</td>\n",
       "      <td>17.800000</td>\n",
       "      <td>26.200000</td>\n",
       "      <td>9.000000</td>\n",
       "      <td>33.400000</td>\n",
       "      <td>34.2</td>\n",
       "      <td>0.0</td>\n",
       "      <td>0.0</td>\n",
       "      <td>0.0</td>\n",
       "      <td>0.0</td>\n",
       "    </tr>\n",
       "    <tr>\n",
       "      <th>3</th>\n",
       "      <td>0</td>\n",
       "      <td>4.0</td>\n",
       "      <td>0.00</td>\n",
       "      <td>16.500000</td>\n",
       "      <td>1.000000</td>\n",
       "      <td>0.000000</td>\n",
       "      <td>0.000000</td>\n",
       "      <td>0.000000</td>\n",
       "      <td>0.000000</td>\n",
       "      <td>0.0</td>\n",
       "      <td>...</td>\n",
       "      <td>0.000000</td>\n",
       "      <td>7.000000</td>\n",
       "      <td>0.000000</td>\n",
       "      <td>0.000000</td>\n",
       "      <td>2.000000</td>\n",
       "      <td>0.0</td>\n",
       "      <td>0.0</td>\n",
       "      <td>0.0</td>\n",
       "      <td>0.0</td>\n",
       "      <td>0.0</td>\n",
       "    </tr>\n",
       "    <tr>\n",
       "      <th>4</th>\n",
       "      <td>1</td>\n",
       "      <td>0.0</td>\n",
       "      <td>4.00</td>\n",
       "      <td>12.333333</td>\n",
       "      <td>13.000000</td>\n",
       "      <td>40.000000</td>\n",
       "      <td>20.666667</td>\n",
       "      <td>32.666667</td>\n",
       "      <td>2.666667</td>\n",
       "      <td>0.0</td>\n",
       "      <td>...</td>\n",
       "      <td>72.333333</td>\n",
       "      <td>16.666667</td>\n",
       "      <td>6.666667</td>\n",
       "      <td>12.333333</td>\n",
       "      <td>34.666667</td>\n",
       "      <td>0.0</td>\n",
       "      <td>0.0</td>\n",
       "      <td>0.0</td>\n",
       "      <td>0.0</td>\n",
       "      <td>0.0</td>\n",
       "    </tr>\n",
       "  </tbody>\n",
       "</table>\n",
       "<p>5 rows × 606 columns</p>\n",
       "</div>"
      ],
      "text/plain": [
       "   ID  POSITION  PLAYER_ACCURATE_CROSSES_season_sum_home  \\\n",
       "0   0       0.0                                     3.25   \n",
       "1   0       1.0                                     4.00   \n",
       "2   0       2.0                                    24.50   \n",
       "3   0       4.0                                     0.00   \n",
       "4   1       0.0                                     4.00   \n",
       "\n",
       "   PLAYER_ACCURATE_PASSES_season_sum_home  PLAYER_AERIALS_WON_season_sum_home  \\\n",
       "0                               12.000000                           21.250000   \n",
       "1                               27.166667                           22.166667   \n",
       "2                               23.333333                            9.166667   \n",
       "3                               16.500000                            1.000000   \n",
       "4                               12.333333                           13.000000   \n",
       "\n",
       "   PLAYER_ASSISTS_season_sum_home  PLAYER_BIG_CHANCES_CREATED_season_sum_home  \\\n",
       "0                       10.500000                                    6.000000   \n",
       "1                        7.000000                                    5.333333   \n",
       "2                        9.333333                                   12.333333   \n",
       "3                        0.000000                                    0.000000   \n",
       "4                       40.000000                                   20.666667   \n",
       "\n",
       "   PLAYER_BIG_CHANCES_MISSED_season_sum_home  \\\n",
       "0                                  21.500000   \n",
       "1                                   0.000000   \n",
       "2                                   4.166667   \n",
       "3                                   0.000000   \n",
       "4                                  32.666667   \n",
       "\n",
       "   PLAYER_BLOCKED_SHOTS_season_sum_home  PLAYER_CAPTAIN_season_sum_home  ...  \\\n",
       "0                              3.000000                             0.0  ...   \n",
       "1                             17.500000                             0.0  ...   \n",
       "2                              8.166667                            45.5  ...   \n",
       "3                              0.000000                             0.0  ...   \n",
       "4                              2.666667                             0.0  ...   \n",
       "\n",
       "   PLAYER_STARTING_LINEUP_5_last_match_std_away  \\\n",
       "0                                     36.166667   \n",
       "1                                     17.500000   \n",
       "2                                     28.000000   \n",
       "3                                      0.000000   \n",
       "4                                     72.333333   \n",
       "\n",
       "   PLAYER_SUCCESSFUL_DRIBBLES_5_last_match_std_away  \\\n",
       "0                                         26.000000   \n",
       "1                                         36.250000   \n",
       "2                                         17.800000   \n",
       "3                                          7.000000   \n",
       "4                                         16.666667   \n",
       "\n",
       "   PLAYER_TACKLES_5_last_match_std_away  \\\n",
       "0                             21.000000   \n",
       "1                             40.000000   \n",
       "2                             26.200000   \n",
       "3                              0.000000   \n",
       "4                              6.666667   \n",
       "\n",
       "   PLAYER_TOTAL_CROSSES_5_last_match_std_away  \\\n",
       "0                                   25.833333   \n",
       "1                                   17.750000   \n",
       "2                                    9.000000   \n",
       "3                                    0.000000   \n",
       "4                                   12.333333   \n",
       "\n",
       "   PLAYER_TOTAL_DUELS_5_last_match_std_away  \\\n",
       "0                                 35.333333   \n",
       "1                                 42.250000   \n",
       "2                                 33.400000   \n",
       "3                                  2.000000   \n",
       "4                                 34.666667   \n",
       "\n",
       "   PLAYER_YELLOWCARDS_5_last_match_std_away  \\\n",
       "0                                      38.5   \n",
       "1                                      67.5   \n",
       "2                                      34.2   \n",
       "3                                       0.0   \n",
       "4                                       0.0   \n",
       "\n",
       "   PLAYER_PUNCHES_5_last_match_std_away  \\\n",
       "0                                   0.0   \n",
       "1                                   0.0   \n",
       "2                                   0.0   \n",
       "3                                   0.0   \n",
       "4                                   0.0   \n",
       "\n",
       "   PLAYER_LONG_BALLS_5_last_match_std_away  \\\n",
       "0                                      0.0   \n",
       "1                                      0.0   \n",
       "2                                      0.0   \n",
       "3                                      0.0   \n",
       "4                                      0.0   \n",
       "\n",
       "   PLAYER_LONG_BALLS_WON_5_last_match_std_away  \\\n",
       "0                                          0.0   \n",
       "1                                          0.0   \n",
       "2                                          0.0   \n",
       "3                                          0.0   \n",
       "4                                          0.0   \n",
       "\n",
       "   PLAYER_SHOTS_OFF_TARGET_5_last_match_std_away  \n",
       "0                                            0.0  \n",
       "1                                            0.0  \n",
       "2                                            0.0  \n",
       "3                                            0.0  \n",
       "4                                            0.0  \n",
       "\n",
       "[5 rows x 606 columns]"
      ]
     },
     "execution_count": 72,
     "metadata": {},
     "output_type": "execute_result"
    }
   ],
   "source": [
    "team_comparison.head()"
   ]
  },
  {
   "cell_type": "code",
   "execution_count": 73,
   "metadata": {},
   "outputs": [],
   "source": [
    "for column_name in team_comparison.columns:\n",
    "    if column_name.endswith('_home'):  # Ensure we're processing only '_home' columns\n",
    "        prefix = column_name[:-5]  # Remove '_home' to get the base column name\n",
    "        team_comparison[prefix + '_diff'] = (\n",
    "            team_comparison[column_name] - team_comparison[prefix + '_away']\n",
    "        )"
   ]
  },
  {
   "cell_type": "code",
   "execution_count": 74,
   "metadata": {},
   "outputs": [
    {
     "data": {
      "text/html": [
       "<div>\n",
       "<style scoped>\n",
       "    .dataframe tbody tr th:only-of-type {\n",
       "        vertical-align: middle;\n",
       "    }\n",
       "\n",
       "    .dataframe tbody tr th {\n",
       "        vertical-align: top;\n",
       "    }\n",
       "\n",
       "    .dataframe thead th {\n",
       "        text-align: right;\n",
       "    }\n",
       "</style>\n",
       "<table border=\"1\" class=\"dataframe\">\n",
       "  <thead>\n",
       "    <tr style=\"text-align: right;\">\n",
       "      <th></th>\n",
       "      <th>ID</th>\n",
       "      <th>POSITION</th>\n",
       "      <th>PLAYER_ACCURATE_CROSSES_season_sum_home</th>\n",
       "      <th>PLAYER_ACCURATE_PASSES_season_sum_home</th>\n",
       "      <th>PLAYER_AERIALS_WON_season_sum_home</th>\n",
       "      <th>PLAYER_ASSISTS_season_sum_home</th>\n",
       "      <th>PLAYER_BIG_CHANCES_CREATED_season_sum_home</th>\n",
       "      <th>PLAYER_BIG_CHANCES_MISSED_season_sum_home</th>\n",
       "      <th>PLAYER_BLOCKED_SHOTS_season_sum_home</th>\n",
       "      <th>PLAYER_CAPTAIN_season_sum_home</th>\n",
       "      <th>...</th>\n",
       "      <th>PLAYER_STARTING_LINEUP_5_last_match_std_diff</th>\n",
       "      <th>PLAYER_SUCCESSFUL_DRIBBLES_5_last_match_std_diff</th>\n",
       "      <th>PLAYER_TACKLES_5_last_match_std_diff</th>\n",
       "      <th>PLAYER_TOTAL_CROSSES_5_last_match_std_diff</th>\n",
       "      <th>PLAYER_TOTAL_DUELS_5_last_match_std_diff</th>\n",
       "      <th>PLAYER_YELLOWCARDS_5_last_match_std_diff</th>\n",
       "      <th>PLAYER_PUNCHES_5_last_match_std_diff</th>\n",
       "      <th>PLAYER_LONG_BALLS_5_last_match_std_diff</th>\n",
       "      <th>PLAYER_LONG_BALLS_WON_5_last_match_std_diff</th>\n",
       "      <th>PLAYER_SHOTS_OFF_TARGET_5_last_match_std_diff</th>\n",
       "    </tr>\n",
       "  </thead>\n",
       "  <tbody>\n",
       "    <tr>\n",
       "      <th>0</th>\n",
       "      <td>0</td>\n",
       "      <td>0.0</td>\n",
       "      <td>3.25</td>\n",
       "      <td>12.000000</td>\n",
       "      <td>21.250000</td>\n",
       "      <td>10.500000</td>\n",
       "      <td>6.000000</td>\n",
       "      <td>21.500000</td>\n",
       "      <td>3.000000</td>\n",
       "      <td>0.0</td>\n",
       "      <td>...</td>\n",
       "      <td>33.833333</td>\n",
       "      <td>-10.500000</td>\n",
       "      <td>-12.000000</td>\n",
       "      <td>-15.583333</td>\n",
       "      <td>5.416667</td>\n",
       "      <td>0.000000</td>\n",
       "      <td>0.0</td>\n",
       "      <td>0.0</td>\n",
       "      <td>0.0</td>\n",
       "      <td>0.0</td>\n",
       "    </tr>\n",
       "    <tr>\n",
       "      <th>1</th>\n",
       "      <td>0</td>\n",
       "      <td>1.0</td>\n",
       "      <td>4.00</td>\n",
       "      <td>27.166667</td>\n",
       "      <td>22.166667</td>\n",
       "      <td>7.000000</td>\n",
       "      <td>5.333333</td>\n",
       "      <td>0.000000</td>\n",
       "      <td>17.500000</td>\n",
       "      <td>0.0</td>\n",
       "      <td>...</td>\n",
       "      <td>10.500000</td>\n",
       "      <td>-16.850000</td>\n",
       "      <td>-9.000000</td>\n",
       "      <td>-5.150000</td>\n",
       "      <td>-0.050000</td>\n",
       "      <td>12.900000</td>\n",
       "      <td>0.0</td>\n",
       "      <td>0.0</td>\n",
       "      <td>0.0</td>\n",
       "      <td>0.0</td>\n",
       "    </tr>\n",
       "    <tr>\n",
       "      <th>2</th>\n",
       "      <td>0</td>\n",
       "      <td>2.0</td>\n",
       "      <td>24.50</td>\n",
       "      <td>23.333333</td>\n",
       "      <td>9.166667</td>\n",
       "      <td>9.333333</td>\n",
       "      <td>12.333333</td>\n",
       "      <td>4.166667</td>\n",
       "      <td>8.166667</td>\n",
       "      <td>45.5</td>\n",
       "      <td>...</td>\n",
       "      <td>5.833333</td>\n",
       "      <td>23.866667</td>\n",
       "      <td>13.800000</td>\n",
       "      <td>15.333333</td>\n",
       "      <td>14.766667</td>\n",
       "      <td>-8.533333</td>\n",
       "      <td>0.0</td>\n",
       "      <td>0.0</td>\n",
       "      <td>0.0</td>\n",
       "      <td>0.0</td>\n",
       "    </tr>\n",
       "    <tr>\n",
       "      <th>3</th>\n",
       "      <td>0</td>\n",
       "      <td>4.0</td>\n",
       "      <td>0.00</td>\n",
       "      <td>16.500000</td>\n",
       "      <td>1.000000</td>\n",
       "      <td>0.000000</td>\n",
       "      <td>0.000000</td>\n",
       "      <td>0.000000</td>\n",
       "      <td>0.000000</td>\n",
       "      <td>0.0</td>\n",
       "      <td>...</td>\n",
       "      <td>0.000000</td>\n",
       "      <td>-7.000000</td>\n",
       "      <td>0.000000</td>\n",
       "      <td>0.000000</td>\n",
       "      <td>-0.500000</td>\n",
       "      <td>0.000000</td>\n",
       "      <td>0.0</td>\n",
       "      <td>0.0</td>\n",
       "      <td>0.0</td>\n",
       "      <td>0.0</td>\n",
       "    </tr>\n",
       "    <tr>\n",
       "      <th>4</th>\n",
       "      <td>1</td>\n",
       "      <td>0.0</td>\n",
       "      <td>4.00</td>\n",
       "      <td>12.333333</td>\n",
       "      <td>13.000000</td>\n",
       "      <td>40.000000</td>\n",
       "      <td>20.666667</td>\n",
       "      <td>32.666667</td>\n",
       "      <td>2.666667</td>\n",
       "      <td>0.0</td>\n",
       "      <td>...</td>\n",
       "      <td>-72.333333</td>\n",
       "      <td>-9.000000</td>\n",
       "      <td>-2.666667</td>\n",
       "      <td>-7.333333</td>\n",
       "      <td>-16.000000</td>\n",
       "      <td>0.000000</td>\n",
       "      <td>0.0</td>\n",
       "      <td>0.0</td>\n",
       "      <td>0.0</td>\n",
       "      <td>0.0</td>\n",
       "    </tr>\n",
       "  </tbody>\n",
       "</table>\n",
       "<p>5 rows × 908 columns</p>\n",
       "</div>"
      ],
      "text/plain": [
       "   ID  POSITION  PLAYER_ACCURATE_CROSSES_season_sum_home  \\\n",
       "0   0       0.0                                     3.25   \n",
       "1   0       1.0                                     4.00   \n",
       "2   0       2.0                                    24.50   \n",
       "3   0       4.0                                     0.00   \n",
       "4   1       0.0                                     4.00   \n",
       "\n",
       "   PLAYER_ACCURATE_PASSES_season_sum_home  PLAYER_AERIALS_WON_season_sum_home  \\\n",
       "0                               12.000000                           21.250000   \n",
       "1                               27.166667                           22.166667   \n",
       "2                               23.333333                            9.166667   \n",
       "3                               16.500000                            1.000000   \n",
       "4                               12.333333                           13.000000   \n",
       "\n",
       "   PLAYER_ASSISTS_season_sum_home  PLAYER_BIG_CHANCES_CREATED_season_sum_home  \\\n",
       "0                       10.500000                                    6.000000   \n",
       "1                        7.000000                                    5.333333   \n",
       "2                        9.333333                                   12.333333   \n",
       "3                        0.000000                                    0.000000   \n",
       "4                       40.000000                                   20.666667   \n",
       "\n",
       "   PLAYER_BIG_CHANCES_MISSED_season_sum_home  \\\n",
       "0                                  21.500000   \n",
       "1                                   0.000000   \n",
       "2                                   4.166667   \n",
       "3                                   0.000000   \n",
       "4                                  32.666667   \n",
       "\n",
       "   PLAYER_BLOCKED_SHOTS_season_sum_home  PLAYER_CAPTAIN_season_sum_home  ...  \\\n",
       "0                              3.000000                             0.0  ...   \n",
       "1                             17.500000                             0.0  ...   \n",
       "2                              8.166667                            45.5  ...   \n",
       "3                              0.000000                             0.0  ...   \n",
       "4                              2.666667                             0.0  ...   \n",
       "\n",
       "   PLAYER_STARTING_LINEUP_5_last_match_std_diff  \\\n",
       "0                                     33.833333   \n",
       "1                                     10.500000   \n",
       "2                                      5.833333   \n",
       "3                                      0.000000   \n",
       "4                                    -72.333333   \n",
       "\n",
       "   PLAYER_SUCCESSFUL_DRIBBLES_5_last_match_std_diff  \\\n",
       "0                                        -10.500000   \n",
       "1                                        -16.850000   \n",
       "2                                         23.866667   \n",
       "3                                         -7.000000   \n",
       "4                                         -9.000000   \n",
       "\n",
       "   PLAYER_TACKLES_5_last_match_std_diff  \\\n",
       "0                            -12.000000   \n",
       "1                             -9.000000   \n",
       "2                             13.800000   \n",
       "3                              0.000000   \n",
       "4                             -2.666667   \n",
       "\n",
       "   PLAYER_TOTAL_CROSSES_5_last_match_std_diff  \\\n",
       "0                                  -15.583333   \n",
       "1                                   -5.150000   \n",
       "2                                   15.333333   \n",
       "3                                    0.000000   \n",
       "4                                   -7.333333   \n",
       "\n",
       "   PLAYER_TOTAL_DUELS_5_last_match_std_diff  \\\n",
       "0                                  5.416667   \n",
       "1                                 -0.050000   \n",
       "2                                 14.766667   \n",
       "3                                 -0.500000   \n",
       "4                                -16.000000   \n",
       "\n",
       "   PLAYER_YELLOWCARDS_5_last_match_std_diff  \\\n",
       "0                                  0.000000   \n",
       "1                                 12.900000   \n",
       "2                                 -8.533333   \n",
       "3                                  0.000000   \n",
       "4                                  0.000000   \n",
       "\n",
       "   PLAYER_PUNCHES_5_last_match_std_diff  \\\n",
       "0                                   0.0   \n",
       "1                                   0.0   \n",
       "2                                   0.0   \n",
       "3                                   0.0   \n",
       "4                                   0.0   \n",
       "\n",
       "   PLAYER_LONG_BALLS_5_last_match_std_diff  \\\n",
       "0                                      0.0   \n",
       "1                                      0.0   \n",
       "2                                      0.0   \n",
       "3                                      0.0   \n",
       "4                                      0.0   \n",
       "\n",
       "   PLAYER_LONG_BALLS_WON_5_last_match_std_diff  \\\n",
       "0                                          0.0   \n",
       "1                                          0.0   \n",
       "2                                          0.0   \n",
       "3                                          0.0   \n",
       "4                                          0.0   \n",
       "\n",
       "   PLAYER_SHOTS_OFF_TARGET_5_last_match_std_diff  \n",
       "0                                            0.0  \n",
       "1                                            0.0  \n",
       "2                                            0.0  \n",
       "3                                            0.0  \n",
       "4                                            0.0  \n",
       "\n",
       "[5 rows x 908 columns]"
      ]
     },
     "execution_count": 74,
     "metadata": {},
     "output_type": "execute_result"
    }
   ],
   "source": [
    "\n",
    "team_comparison.head()"
   ]
  },
  {
   "cell_type": "markdown",
   "metadata": {},
   "source": [
    "## Analyse des données"
   ]
  },
  {
   "cell_type": "code",
   "execution_count": 75,
   "metadata": {},
   "outputs": [
    {
     "name": "stdout",
     "output_type": "stream",
     "text": [
      "dimension of the dataset: (236132, 304)\n",
      "\n",
      "<class 'pandas.core.frame.DataFrame'>\n",
      "RangeIndex: 236132 entries, 0 to 236131\n",
      "Columns: 304 entries, ID to PLAYER_SHOTS_OFF_TARGET_5_last_match_std\n",
      "dtypes: float64(303), int64(1)\n",
      "memory usage: 547.7 MB\n"
     ]
    }
   ],
   "source": [
    "print('dimension of the dataset:', away_players.shape)\n",
    "print()\n",
    "away_players.info()"
   ]
  },
  {
   "cell_type": "code",
   "execution_count": 76,
   "metadata": {},
   "outputs": [
    {
     "name": "stdout",
     "output_type": "stream",
     "text": [
      "dimension of the dataset: (237079, 304)\n",
      "\n",
      "<class 'pandas.core.frame.DataFrame'>\n",
      "RangeIndex: 237079 entries, 0 to 237078\n",
      "Columns: 304 entries, ID to PLAYER_SHOTS_OFF_TARGET_5_last_match_std\n",
      "dtypes: float64(303), int64(1)\n",
      "memory usage: 549.9 MB\n"
     ]
    }
   ],
   "source": [
    "print('dimension of the dataset:', home_players.shape)\n",
    "print()\n",
    "home_players.info()"
   ]
  },
  {
   "cell_type": "markdown",
   "metadata": {},
   "source": [
    "#### Analyse des données manquantes"
   ]
  },
  {
   "cell_type": "code",
   "execution_count": 77,
   "metadata": {},
   "outputs": [
    {
     "data": {
      "text/plain": [
       "PLAYER_SHOTS_OFF_TARGET_season_std              1.000000\n",
       "PLAYER_LONG_BALLS_5_last_match_sum              1.000000\n",
       "PLAYER_SHOTS_OFF_TARGET_season_sum              1.000000\n",
       "PLAYER_CAPTAIN_season_average                   1.000000\n",
       "PLAYER_LONG_BALLS_season_average                1.000000\n",
       "                                                  ...   \n",
       "PLAYER_MINUTES_PLAYED_5_last_match_average      0.016216\n",
       "PLAYER_PENALTIES_SCORED_5_last_match_average    0.016216\n",
       "PLAYER_STARTING_LINEUP_5_last_match_average     0.016216\n",
       "POSITION                                        0.000000\n",
       "ID                                              0.000000\n",
       "Length: 304, dtype: float64"
      ]
     },
     "execution_count": 77,
     "metadata": {},
     "output_type": "execute_result"
    }
   ],
   "source": [
    "col_missing_away = away_players.isna().mean().sort_values(ascending=False)\n",
    "col_missing_away"
   ]
  },
  {
   "cell_type": "code",
   "execution_count": 78,
   "metadata": {},
   "outputs": [
    {
     "data": {
      "text/plain": [
       "PLAYER_SHOTS_OFF_TARGET_season_std              1.000000\n",
       "PLAYER_LONG_BALLS_5_last_match_sum              1.000000\n",
       "PLAYER_SHOTS_OFF_TARGET_season_sum              1.000000\n",
       "PLAYER_CAPTAIN_season_average                   1.000000\n",
       "PLAYER_LONG_BALLS_season_average                1.000000\n",
       "                                                  ...   \n",
       "PLAYER_MINUTES_PLAYED_5_last_match_average      0.015172\n",
       "PLAYER_PENALTIES_SCORED_5_last_match_average    0.015172\n",
       "PLAYER_STARTING_LINEUP_5_last_match_average     0.015172\n",
       "POSITION                                        0.000000\n",
       "ID                                              0.000000\n",
       "Length: 304, dtype: float64"
      ]
     },
     "execution_count": 78,
     "metadata": {},
     "output_type": "execute_result"
    }
   ],
   "source": [
    "col_missing_home = home_players.isna().mean().sort_values(ascending=False)\n",
    "col_missing_home"
   ]
  },
  {
   "cell_type": "markdown",
   "metadata": {},
   "source": [
    "Nous remarquons un nombre important des colonnes avec des données manquantes"
   ]
  },
  {
   "cell_type": "code",
   "execution_count": 79,
   "metadata": {},
   "outputs": [
    {
     "name": "stdout",
     "output_type": "stream",
     "text": [
      "Percentage de colonnes avec de données manquantes dans away dataset: 99.342 %\n",
      "Percentage de colonnes avec de données manquantes dans home dataset: 99.342 %\n"
     ]
    }
   ],
   "source": [
    "print(f'Percentage de colonnes avec de données manquantes dans away dataset: {len(col_missing_away[col_missing_away > 0])*100/len(col_missing_away):.3f} %')\n",
    "print(f'Percentage de colonnes avec de données manquantes dans home dataset: {len(col_missing_home[col_missing_home > 0])*100/len(col_missing_home):.3f} %')"
   ]
  },
  {
   "cell_type": "code",
   "execution_count": 80,
   "metadata": {},
   "outputs": [
    {
     "data": {
      "image/png": "[encoded data removed]",
      "text/plain": [
       "<Figure size 1200x600 with 1 Axes>"
      ]
     },
     "metadata": {},
     "output_type": "display_data"
    }
   ],
   "source": [
    "top30_misv = col_missing_away.head(30)\n",
    "fig, ax = plt.subplots(figsize = (12, 6))\n",
    "ax.bar(top30_misv.index, top30_misv)\n",
    "ax.set_xticklabels(top30_misv.index, rotation=45, ha='right')\n",
    "ax.set_xlabel('Columns')\n",
    "ax.set_ylabel('Percentage of missing values')\n",
    "ax.set_title('Percentage of misssing values in the 30 columns with the most null values in away dataset')\n",
    "plt.tight_layout()\n",
    "plt.show()"
   ]
  },
  {
   "cell_type": "code",
   "execution_count": 81,
   "metadata": {},
   "outputs": [
    {
     "data": {
      "image/png": "[encoded data removed]",
      "text/plain": [
       "<Figure size 1200x600 with 1 Axes>"
      ]
     },
     "metadata": {},
     "output_type": "display_data"
    }
   ],
   "source": [
    "top30_misv = col_missing_away.head(30)\n",
    "fig, ax = plt.subplots(figsize = (12, 6))\n",
    "ax.bar(top30_misv.index, top30_misv)\n",
    "ax.set_xticklabels(top30_misv.index, rotation=45, ha='right')\n",
    "ax.set_xlabel('Columns')\n",
    "ax.set_ylabel('Percentage of missing values')\n",
    "ax.set_title('Percentage of misssing values in the 30 columns with the most null values in home dataset')\n",
    "plt.tight_layout()\n",
    "plt.show()"
   ]
  },
  {
   "cell_type": "markdown",
   "metadata": {},
   "source": [
    "On efface les colonnés où il a plus de 30% de données manquantes"
   ]
  },
  {
   "cell_type": "code",
   "execution_count": 82,
   "metadata": {},
   "outputs": [
    {
     "name": "stdout",
     "output_type": "stream",
     "text": [
      "Shape initiale: (236132, 304)\n",
      "Shape finale: (236132, 271)\n"
     ]
    }
   ],
   "source": [
    "cols_drop_away = col_missing_away[col_missing_away > 0.3].index\n",
    "train_away_clean = away_players.drop(columns=cols_drop_away)\n",
    "print('Shape initiale:', away_players.shape)\n",
    "print('Shape finale:',train_away_clean.shape)"
   ]
  },
  {
   "cell_type": "code",
   "execution_count": 83,
   "metadata": {},
   "outputs": [
    {
     "name": "stdout",
     "output_type": "stream",
     "text": [
      "Shape initiale: (237079, 304)\n",
      "Shape finale: (237079, 271)\n"
     ]
    }
   ],
   "source": [
    "cols_drop_away = col_missing_home[col_missing_home > 0.3].index\n",
    "train_home_clean = home_players.drop(columns=cols_drop_away)\n",
    "print('Shape initiale:', home_players.shape)\n",
    "print('Shape finale:',train_home_clean.shape)"
   ]
  },
  {
   "cell_type": "markdown",
   "metadata": {},
   "source": [
    "Analyse sur les lignes"
   ]
  },
  {
   "cell_type": "code",
   "execution_count": 84,
   "metadata": {},
   "outputs": [
    {
     "data": {
      "text/plain": [
       "88026     0.993421\n",
       "171113    0.993421\n",
       "90397     0.993421\n",
       "90418     0.993421\n",
       "222203    0.993421\n",
       "            ...   \n",
       "84078     0.072368\n",
       "19001     0.072368\n",
       "160976    0.072368\n",
       "160966    0.072368\n",
       "200480    0.072368\n",
       "Length: 236132, dtype: float64"
      ]
     },
     "execution_count": 84,
     "metadata": {},
     "output_type": "execute_result"
    }
   ],
   "source": [
    "row_missing_away = away_players.isna().mean(axis=1).sort_values(ascending=False)\n",
    "row_missing_away"
   ]
  },
  {
   "cell_type": "code",
   "execution_count": 85,
   "metadata": {},
   "outputs": [
    {
     "data": {
      "text/plain": [
       "57095     0.993421\n",
       "156862    0.993421\n",
       "108771    0.993421\n",
       "196897    0.993421\n",
       "196904    0.993421\n",
       "            ...   \n",
       "186099    0.072368\n",
       "96665     0.072368\n",
       "80991     0.072368\n",
       "80992     0.072368\n",
       "43000     0.072368\n",
       "Length: 237079, dtype: float64"
      ]
     },
     "execution_count": 85,
     "metadata": {},
     "output_type": "execute_result"
    }
   ],
   "source": [
    "row_missing_home = home_players.isna().mean(axis=1).sort_values(ascending=False)\n",
    "row_missing_home"
   ]
  },
  {
   "cell_type": "code",
   "execution_count": 86,
   "metadata": {},
   "outputs": [
    {
     "name": "stdout",
     "output_type": "stream",
     "text": [
      "Percentage de lignes avec de données manquantes: 100.000 %\n",
      "Percentage de lignes avec de données manquantes: 100.000 %\n"
     ]
    }
   ],
   "source": [
    "print(f'Percentage de lignes avec de données manquantes: {len(row_missing_away[row_missing_away > 0])*100/len(row_missing_away):.3f} %')\n",
    "print(f'Percentage de lignes avec de données manquantes: {len(row_missing_home[row_missing_home > 0])*100/len(row_missing_home):.3f} %')"
   ]
  },
  {
   "cell_type": "markdown",
   "metadata": {},
   "source": [
    "**Nous avons une quantité importante des données manquantes sur chaque ligne**\n",
    "\n",
    "Dans ce cas, nous analysons les données de test des joeurs"
   ]
  },
  {
   "cell_type": "code",
   "execution_count": 87,
   "metadata": {},
   "outputs": [
    {
     "data": {
      "text/plain": [
       "463137    0.996711\n",
       "293598    0.996711\n",
       "299252    0.996711\n",
       "239328    0.996711\n",
       "14985     0.996711\n",
       "            ...   \n",
       "258513    0.013158\n",
       "412803    0.013158\n",
       "361948    0.013158\n",
       "452679    0.013158\n",
       "328452    0.013158\n",
       "Length: 504626, dtype: float64"
      ]
     },
     "execution_count": 87,
     "metadata": {},
     "output_type": "execute_result"
    }
   ],
   "source": [
    "test_player_away = pd.read_csv(away_player_test)\n",
    "\n",
    "row_missing_awya_test = test_player_away.isna().mean(axis=1).sort_values(ascending=False)\n",
    "row_missing_awya_test"
   ]
  },
  {
   "cell_type": "code",
   "execution_count": 88,
   "metadata": {},
   "outputs": [
    {
     "data": {
      "text/plain": [
       "400724    0.996711\n",
       "427524    0.996711\n",
       "411962    0.996711\n",
       "386509    0.996711\n",
       "271283    0.996711\n",
       "            ...   \n",
       "224513    0.013158\n",
       "224511    0.013158\n",
       "442985    0.013158\n",
       "101602    0.013158\n",
       "128269    0.013158\n",
       "Length: 509816, dtype: float64"
      ]
     },
     "execution_count": 88,
     "metadata": {},
     "output_type": "execute_result"
    }
   ],
   "source": [
    "test_player_home = pd.read_csv(home_player_test)\n",
    "row_missing_home_test = test_player_home.isna().mean(axis=1).sort_values(ascending=False)\n",
    "row_missing_home_test"
   ]
  },
  {
   "cell_type": "code",
   "execution_count": 89,
   "metadata": {},
   "outputs": [
    {
     "name": "stdout",
     "output_type": "stream",
     "text": [
      "Percentage de lignes avec de données manquantes: 100.000 %\n",
      "Percentage de lignes avec de données manquantes: 100.000 %\n"
     ]
    }
   ],
   "source": [
    "print(f'Percentage de lignes avec de données manquantes: {len(row_missing_awya_test[row_missing_awya_test > 0])*100/len(row_missing_awya_test):.3f} %')\n",
    "print(f'Percentage de lignes avec de données manquantes: {len(row_missing_home_test[row_missing_home_test > 0])*100/len(row_missing_home_test):.3f} %')"
   ]
  },
  {
   "cell_type": "markdown",
   "metadata": {},
   "source": [
    "Nous remarquons que dans les données de test il y a également beaucoup de données manquantes, avec des lignes qui manquent plus de 90% des données. \n",
    "\n",
    "Dans ce cas, une imputation de données n'a pas du sense car dans certains cas nous allons imputer presque toute la ligne.\n",
    "Donc, les données des joueurs ne seront pas accurate mais en va quand même essayer de voir l'accuracy des predictions avec les datasets des joueurs."
   ]
  },
  {
   "cell_type": "markdown",
   "metadata": {},
   "source": [
    "## Entraînement de modèles"
   ]
  },
  {
   "cell_type": "code",
   "execution_count": 90,
   "metadata": {},
   "outputs": [],
   "source": [
    "# Load labels\n",
    "labels = pd.read_csv(Y_train)\n",
    "\n",
    "# Merge with features\n",
    "data_with_labels = pd.merge(team_comparison, labels, how='right', on='ID')"
   ]
  },
  {
   "cell_type": "code",
   "execution_count": 91,
   "metadata": {},
   "outputs": [
    {
     "data": {
      "text/html": [
       "<div>\n",
       "<style scoped>\n",
       "    .dataframe tbody tr th:only-of-type {\n",
       "        vertical-align: middle;\n",
       "    }\n",
       "\n",
       "    .dataframe tbody tr th {\n",
       "        vertical-align: top;\n",
       "    }\n",
       "\n",
       "    .dataframe thead th {\n",
       "        text-align: right;\n",
       "    }\n",
       "</style>\n",
       "<table border=\"1\" class=\"dataframe\">\n",
       "  <thead>\n",
       "    <tr style=\"text-align: right;\">\n",
       "      <th></th>\n",
       "      <th>ID</th>\n",
       "      <th>POSITION</th>\n",
       "      <th>PLAYER_ACCURATE_CROSSES_season_sum_home</th>\n",
       "      <th>PLAYER_ACCURATE_PASSES_season_sum_home</th>\n",
       "      <th>PLAYER_AERIALS_WON_season_sum_home</th>\n",
       "      <th>PLAYER_ASSISTS_season_sum_home</th>\n",
       "      <th>PLAYER_BIG_CHANCES_CREATED_season_sum_home</th>\n",
       "      <th>PLAYER_BIG_CHANCES_MISSED_season_sum_home</th>\n",
       "      <th>PLAYER_BLOCKED_SHOTS_season_sum_home</th>\n",
       "      <th>PLAYER_CAPTAIN_season_sum_home</th>\n",
       "      <th>...</th>\n",
       "      <th>PLAYER_TOTAL_CROSSES_5_last_match_std_diff</th>\n",
       "      <th>PLAYER_TOTAL_DUELS_5_last_match_std_diff</th>\n",
       "      <th>PLAYER_YELLOWCARDS_5_last_match_std_diff</th>\n",
       "      <th>PLAYER_PUNCHES_5_last_match_std_diff</th>\n",
       "      <th>PLAYER_LONG_BALLS_5_last_match_std_diff</th>\n",
       "      <th>PLAYER_LONG_BALLS_WON_5_last_match_std_diff</th>\n",
       "      <th>PLAYER_SHOTS_OFF_TARGET_5_last_match_std_diff</th>\n",
       "      <th>HOME_WINS</th>\n",
       "      <th>DRAW</th>\n",
       "      <th>AWAY_WINS</th>\n",
       "    </tr>\n",
       "  </thead>\n",
       "  <tbody>\n",
       "    <tr>\n",
       "      <th>0</th>\n",
       "      <td>0</td>\n",
       "      <td>0.0</td>\n",
       "      <td>3.25</td>\n",
       "      <td>12.000000</td>\n",
       "      <td>21.250000</td>\n",
       "      <td>10.500000</td>\n",
       "      <td>6.000000</td>\n",
       "      <td>21.500000</td>\n",
       "      <td>3.000000</td>\n",
       "      <td>0.0</td>\n",
       "      <td>...</td>\n",
       "      <td>-15.583333</td>\n",
       "      <td>5.416667</td>\n",
       "      <td>0.000000</td>\n",
       "      <td>0.0</td>\n",
       "      <td>0.0</td>\n",
       "      <td>0.0</td>\n",
       "      <td>0.0</td>\n",
       "      <td>0</td>\n",
       "      <td>0</td>\n",
       "      <td>1</td>\n",
       "    </tr>\n",
       "    <tr>\n",
       "      <th>1</th>\n",
       "      <td>0</td>\n",
       "      <td>1.0</td>\n",
       "      <td>4.00</td>\n",
       "      <td>27.166667</td>\n",
       "      <td>22.166667</td>\n",
       "      <td>7.000000</td>\n",
       "      <td>5.333333</td>\n",
       "      <td>0.000000</td>\n",
       "      <td>17.500000</td>\n",
       "      <td>0.0</td>\n",
       "      <td>...</td>\n",
       "      <td>-5.150000</td>\n",
       "      <td>-0.050000</td>\n",
       "      <td>12.900000</td>\n",
       "      <td>0.0</td>\n",
       "      <td>0.0</td>\n",
       "      <td>0.0</td>\n",
       "      <td>0.0</td>\n",
       "      <td>0</td>\n",
       "      <td>0</td>\n",
       "      <td>1</td>\n",
       "    </tr>\n",
       "    <tr>\n",
       "      <th>2</th>\n",
       "      <td>0</td>\n",
       "      <td>2.0</td>\n",
       "      <td>24.50</td>\n",
       "      <td>23.333333</td>\n",
       "      <td>9.166667</td>\n",
       "      <td>9.333333</td>\n",
       "      <td>12.333333</td>\n",
       "      <td>4.166667</td>\n",
       "      <td>8.166667</td>\n",
       "      <td>45.5</td>\n",
       "      <td>...</td>\n",
       "      <td>15.333333</td>\n",
       "      <td>14.766667</td>\n",
       "      <td>-8.533333</td>\n",
       "      <td>0.0</td>\n",
       "      <td>0.0</td>\n",
       "      <td>0.0</td>\n",
       "      <td>0.0</td>\n",
       "      <td>0</td>\n",
       "      <td>0</td>\n",
       "      <td>1</td>\n",
       "    </tr>\n",
       "    <tr>\n",
       "      <th>3</th>\n",
       "      <td>0</td>\n",
       "      <td>4.0</td>\n",
       "      <td>0.00</td>\n",
       "      <td>16.500000</td>\n",
       "      <td>1.000000</td>\n",
       "      <td>0.000000</td>\n",
       "      <td>0.000000</td>\n",
       "      <td>0.000000</td>\n",
       "      <td>0.000000</td>\n",
       "      <td>0.0</td>\n",
       "      <td>...</td>\n",
       "      <td>0.000000</td>\n",
       "      <td>-0.500000</td>\n",
       "      <td>0.000000</td>\n",
       "      <td>0.0</td>\n",
       "      <td>0.0</td>\n",
       "      <td>0.0</td>\n",
       "      <td>0.0</td>\n",
       "      <td>0</td>\n",
       "      <td>0</td>\n",
       "      <td>1</td>\n",
       "    </tr>\n",
       "    <tr>\n",
       "      <th>4</th>\n",
       "      <td>1</td>\n",
       "      <td>0.0</td>\n",
       "      <td>4.00</td>\n",
       "      <td>12.333333</td>\n",
       "      <td>13.000000</td>\n",
       "      <td>40.000000</td>\n",
       "      <td>20.666667</td>\n",
       "      <td>32.666667</td>\n",
       "      <td>2.666667</td>\n",
       "      <td>0.0</td>\n",
       "      <td>...</td>\n",
       "      <td>-7.333333</td>\n",
       "      <td>-16.000000</td>\n",
       "      <td>0.000000</td>\n",
       "      <td>0.0</td>\n",
       "      <td>0.0</td>\n",
       "      <td>0.0</td>\n",
       "      <td>0.0</td>\n",
       "      <td>0</td>\n",
       "      <td>1</td>\n",
       "      <td>0</td>\n",
       "    </tr>\n",
       "  </tbody>\n",
       "</table>\n",
       "<p>5 rows × 911 columns</p>\n",
       "</div>"
      ],
      "text/plain": [
       "   ID  POSITION  PLAYER_ACCURATE_CROSSES_season_sum_home  \\\n",
       "0   0       0.0                                     3.25   \n",
       "1   0       1.0                                     4.00   \n",
       "2   0       2.0                                    24.50   \n",
       "3   0       4.0                                     0.00   \n",
       "4   1       0.0                                     4.00   \n",
       "\n",
       "   PLAYER_ACCURATE_PASSES_season_sum_home  PLAYER_AERIALS_WON_season_sum_home  \\\n",
       "0                               12.000000                           21.250000   \n",
       "1                               27.166667                           22.166667   \n",
       "2                               23.333333                            9.166667   \n",
       "3                               16.500000                            1.000000   \n",
       "4                               12.333333                           13.000000   \n",
       "\n",
       "   PLAYER_ASSISTS_season_sum_home  PLAYER_BIG_CHANCES_CREATED_season_sum_home  \\\n",
       "0                       10.500000                                    6.000000   \n",
       "1                        7.000000                                    5.333333   \n",
       "2                        9.333333                                   12.333333   \n",
       "3                        0.000000                                    0.000000   \n",
       "4                       40.000000                                   20.666667   \n",
       "\n",
       "   PLAYER_BIG_CHANCES_MISSED_season_sum_home  \\\n",
       "0                                  21.500000   \n",
       "1                                   0.000000   \n",
       "2                                   4.166667   \n",
       "3                                   0.000000   \n",
       "4                                  32.666667   \n",
       "\n",
       "   PLAYER_BLOCKED_SHOTS_season_sum_home  PLAYER_CAPTAIN_season_sum_home  ...  \\\n",
       "0                              3.000000                             0.0  ...   \n",
       "1                             17.500000                             0.0  ...   \n",
       "2                              8.166667                            45.5  ...   \n",
       "3                              0.000000                             0.0  ...   \n",
       "4                              2.666667                             0.0  ...   \n",
       "\n",
       "   PLAYER_TOTAL_CROSSES_5_last_match_std_diff  \\\n",
       "0                                  -15.583333   \n",
       "1                                   -5.150000   \n",
       "2                                   15.333333   \n",
       "3                                    0.000000   \n",
       "4                                   -7.333333   \n",
       "\n",
       "   PLAYER_TOTAL_DUELS_5_last_match_std_diff  \\\n",
       "0                                  5.416667   \n",
       "1                                 -0.050000   \n",
       "2                                 14.766667   \n",
       "3                                 -0.500000   \n",
       "4                                -16.000000   \n",
       "\n",
       "   PLAYER_YELLOWCARDS_5_last_match_std_diff  \\\n",
       "0                                  0.000000   \n",
       "1                                 12.900000   \n",
       "2                                 -8.533333   \n",
       "3                                  0.000000   \n",
       "4                                  0.000000   \n",
       "\n",
       "   PLAYER_PUNCHES_5_last_match_std_diff  \\\n",
       "0                                   0.0   \n",
       "1                                   0.0   \n",
       "2                                   0.0   \n",
       "3                                   0.0   \n",
       "4                                   0.0   \n",
       "\n",
       "   PLAYER_LONG_BALLS_5_last_match_std_diff  \\\n",
       "0                                      0.0   \n",
       "1                                      0.0   \n",
       "2                                      0.0   \n",
       "3                                      0.0   \n",
       "4                                      0.0   \n",
       "\n",
       "   PLAYER_LONG_BALLS_WON_5_last_match_std_diff  \\\n",
       "0                                          0.0   \n",
       "1                                          0.0   \n",
       "2                                          0.0   \n",
       "3                                          0.0   \n",
       "4                                          0.0   \n",
       "\n",
       "   PLAYER_SHOTS_OFF_TARGET_5_last_match_std_diff  HOME_WINS  DRAW  AWAY_WINS  \n",
       "0                                            0.0          0     0          1  \n",
       "1                                            0.0          0     0          1  \n",
       "2                                            0.0          0     0          1  \n",
       "3                                            0.0          0     0          1  \n",
       "4                                            0.0          0     1          0  \n",
       "\n",
       "[5 rows x 911 columns]"
      ]
     },
     "execution_count": 91,
     "metadata": {},
     "output_type": "execute_result"
    }
   ],
   "source": [
    "data_with_labels.head()"
   ]
  },
  {
   "cell_type": "code",
   "execution_count": 92,
   "metadata": {},
   "outputs": [],
   "source": [
    "# Split data\n",
    "X = data_with_labels.drop(['HOME_WINS', 'DRAW', 'AWAY_WINS'], axis=1).fillna(0)\n",
    "y = data_with_labels[['HOME_WINS', 'DRAW', 'AWAY_WINS']].values.argmax(axis=1)\n",
    "\n",
    "X_train, X_val, y_train, y_val = train_test_split(X, y, test_size=0.2, random_state=42)\n"
   ]
  },
  {
   "cell_type": "code",
   "execution_count": 93,
   "metadata": {},
   "outputs": [
    {
     "name": "stdout",
     "output_type": "stream",
     "text": [
      "Nombre de données d'entrainement: 36912\n",
      "Nombre de données de test: 9228\n"
     ]
    }
   ],
   "source": [
    "print(f\"Nombre de données d'entrainement: {X_train.shape[0]}\")\n",
    "print(f\"Nombre de données de test: {X_val.shape[0]}\")"
   ]
  },
  {
   "cell_type": "code",
   "execution_count": 94,
   "metadata": {},
   "outputs": [
    {
     "data": {
      "text/plain": [
       "array([2, 0, 1, ..., 0, 1, 0], dtype=int64)"
      ]
     },
     "execution_count": 94,
     "metadata": {},
     "output_type": "execute_result"
    }
   ],
   "source": [
    "y_train"
   ]
  },
  {
   "cell_type": "markdown",
   "metadata": {},
   "source": [
    "### Imputation et standardisation des données"
   ]
  },
  {
   "cell_type": "code",
   "execution_count": 95,
   "metadata": {},
   "outputs": [],
   "source": [
    "imputer = SimpleImputer(strategy='median')\n",
    "X_train_imp = imputer.fit_transform(X_train)\n",
    "\n",
    "scaler = StandardScaler()\n",
    "X_train_scaled = scaler.fit_transform(X_train_imp)"
   ]
  },
  {
   "cell_type": "markdown",
   "metadata": {},
   "source": [
    "### Gradient Boosting Classifier"
   ]
  },
  {
   "cell_type": "code",
   "execution_count": 99,
   "metadata": {},
   "outputs": [],
   "source": [
    "params1 = {\n",
    "    'n_estimators': 200,\n",
    "    'learning_rate': 0.01,\n",
    "    'max_depth': 5,\n",
    "    'subsample': 0.9,\n",
    "    'random_state': 42\n",
    "}\n",
    "gb_model = GradientBoostingClassifier(**params1)\n"
   ]
  },
  {
   "cell_type": "code",
   "execution_count": null,
   "metadata": {},
   "outputs": [],
   "source": [
    "gb_model.fit(X_train, y_train)\n"
   ]
  },
  {
   "cell_type": "code",
   "execution_count": null,
   "metadata": {},
   "outputs": [],
   "source": [
    "y_pred = gb_model.predict(X_val)\n",
    "print(\"Accuracy:\", accuracy_score(y_val, y_pred))"
   ]
  },
  {
   "cell_type": "code",
   "execution_count": null,
   "metadata": {},
   "outputs": [
    {
     "data": {
      "text/plain": [
       "array([1, 1, 0, ..., 1, 1, 1], dtype=int64)"
      ]
     },
     "execution_count": 55,
     "metadata": {},
     "output_type": "execute_result"
    }
   ],
   "source": [
    "y_pred"
   ]
  },
  {
   "cell_type": "markdown",
   "metadata": {},
   "source": [
    "find imporatance of the features"
   ]
  },
  {
   "cell_type": "code",
   "execution_count": null,
   "metadata": {},
   "outputs": [],
   "source": [
    "# Model and Hyperparameter Tuning to improve the model\n",
    "params = {\n",
    "    'n_estimators': [100, 200, 500],\n",
    "    'learning_rate': [0.01, 0.1, 1],\n",
    "    'max_depth': [5, 7, 8],\n",
    "    'subsample': [0.8, 0.9, 1]\n",
    "}\n",
    "\n",
    "gb_model = GradientBoostingClassifier(random_state=42)\n",
    "grid_search = GridSearchCV(\n",
    "    gb_model, param_grid=params, scoring='accuracy', cv=3, verbose=1, n_jobs=-1\n",
    ")\n",
    "grid_search.fit(X_train, y_train)\n",
    "\n",
    "# Evaluate Model\n",
    "best_model_gb = grid_search.best_estimator_\n",
    "best_model_gb_accuracy = y_pred = best_model_gb.predict(X_val)\n",
    "accuracy_score(y_val, y_pred)\n",
    "\n",
    "print(\"Best Parameters:\", grid_search.best_params_)\n",
    "print(\"Accuracy:\", accuracy_score(y_val, y_pred))\n",
    "print(\"Classification Report:\\n\", classification_report(y_val, y_pred))"
   ]
  },
  {
   "cell_type": "code",
   "execution_count": null,
   "metadata": {},
   "outputs": [],
   "source": [
    "best_model_gb_accuracy = y_pred = best_model_gb.predict(X_val)"
   ]
  },
  {
   "cell_type": "code",
   "execution_count": null,
   "metadata": {},
   "outputs": [],
   "source": [
    "# Feature Importance\n",
    "importances = best_model_gb.feature_importances_\n",
    "feature_names = X_train.columns\n",
    "feature_importance = pd.DataFrame({'Feature': feature_names, 'Importance': importances})\n",
    "feature_importance = feature_importance.sort_values(by='Importance', ascending=False).head(25)\n",
    "print(\"Top 10 Features:\\n\", feature_importance)"
   ]
  },
  {
   "cell_type": "code",
   "execution_count": null,
   "metadata": {},
   "outputs": [],
   "source": [
    "max_num_features = 25\n",
    "top_features = feature_importance.head(max_num_features)\n",
    "\n",
    "plt.figure(figsize=(10, 10))\n",
    "plt.barh(top_features['Feature'], top_features['Importance'])\n",
    "plt.xlabel('Importance')\n",
    "plt.ylabel('Features')\n",
    "plt.title(f'Top {max_num_features} Most Important Features in Random Forest')\n",
    "plt.gca().invert_yaxis() \n",
    "plt.tight_layout()\n",
    "plt.show()"
   ]
  },
  {
   "cell_type": "code",
   "execution_count": null,
   "metadata": {},
   "outputs": [],
   "source": [
    "n_features = X_train.shape[1]\n",
    "total_pairs = n_features * (n_features - 1) // 2\n",
    "\n",
    "correlation_matrix = X_train.corr()\n",
    "high_corr_pairs = np.sum(np.triu(correlation_matrix > 0.9, k=1))\n",
    "\n",
    "percentage_high_corr = (high_corr_pairs / total_pairs) * 100\n",
    "\n",
    "print(f\"Nombre total de paires: {total_pairs}\")\n",
    "print(f\"Nombre de paires avec une corrélation > 0,9: {high_corr_pairs}\")\n",
    "print(f\"Pourcentage de paires fortement corrélées: {percentage_high_corr:.2f}%\")"
   ]
  },
  {
   "cell_type": "code",
   "execution_count": null,
   "metadata": {},
   "outputs": [],
   "source": [
    "pca = PCA(n_components=0.95) \n",
    "X_train_pca = pca.fit_transform(X_train)\n",
    "X_test_pca = pca.transform(X_val)\n",
    "\n",
    "print(f\"Nombre de composantes principales: {X_train_pca.shape[1]}\")"
   ]
  },
  {
   "cell_type": "code",
   "execution_count": null,
   "metadata": {},
   "outputs": [],
   "source": [
    "threshold = 0.003  \n",
    "important_features = feature_importance[feature_importance['Importance'] > threshold]\n",
    "\n",
    "print(f\"Nombre de features sélectionnées: {len(important_features)}\")\n",
    "\n",
    "selected_features_gb = important_features['Feature'].tolist()\n",
    "\n",
    "X_train_selected = X_train[selected_features_gb]\n",
    "X_test_selected = X_val[selected_features_gb]"
   ]
  },
  {
   "cell_type": "code",
   "execution_count": null,
   "metadata": {},
   "outputs": [],
   "source": [
    "params = {\n",
    "    'n_estimators': 200,\n",
    "    'learning_rate': 0.01,\n",
    "    'max_depth': 5,\n",
    "    'subsample': 0.9,\n",
    "    'random_state': 42\n",
    "}\n",
    "gb_model_selected = GradientBoostingClassifier(**params)\n",
    "gb_model_selected.fit(X_train_selected, y_train)\n",
    "y_pred = gb_model_selected.predict(X_test_selected)"
   ]
  },
  {
   "cell_type": "code",
   "execution_count": null,
   "metadata": {},
   "outputs": [],
   "source": [
    "y_pred_selected = gb_model_selected.predict(X_test_selected)\n",
    "score_gb_selected = accuracy_score(y_val, y_pred_selected)\n",
    "score_gb_selected"
   ]
  },
  {
   "cell_type": "markdown",
   "metadata": {},
   "source": [
    "##### improve the model"
   ]
  },
  {
   "cell_type": "code",
   "execution_count": null,
   "metadata": {},
   "outputs": [
    {
     "ename": "KeyboardInterrupt",
     "evalue": "",
     "output_type": "error",
     "traceback": [
      "\u001b[1;31m---------------------------------------------------------------------------\u001b[0m",
      "\u001b[1;31mKeyboardInterrupt\u001b[0m                         Traceback (most recent call last)",
      "Cell \u001b[1;32mIn[25], line 18\u001b[0m\n\u001b[0;32m      4\u001b[0m param_grid \u001b[38;5;241m=\u001b[39m {\n\u001b[0;32m      5\u001b[0m     \u001b[38;5;124m'\u001b[39m\u001b[38;5;124mlearning_rate\u001b[39m\u001b[38;5;124m'\u001b[39m: [\u001b[38;5;241m0.01\u001b[39m, \u001b[38;5;241m0.05\u001b[39m, \u001b[38;5;241m0.1\u001b[39m],\n\u001b[0;32m      6\u001b[0m     \u001b[38;5;124m'\u001b[39m\u001b[38;5;124mn_estimators\u001b[39m\u001b[38;5;124m'\u001b[39m: [\u001b[38;5;241m100\u001b[39m, \u001b[38;5;241m200\u001b[39m, \u001b[38;5;241m300\u001b[39m],\n\u001b[0;32m      7\u001b[0m     \u001b[38;5;124m'\u001b[39m\u001b[38;5;124mmax_depth\u001b[39m\u001b[38;5;124m'\u001b[39m: [\u001b[38;5;241m3\u001b[39m, \u001b[38;5;241m5\u001b[39m, \u001b[38;5;241m7\u001b[39m],\n\u001b[0;32m      8\u001b[0m     \u001b[38;5;124m'\u001b[39m\u001b[38;5;124msubsample\u001b[39m\u001b[38;5;124m'\u001b[39m: [\u001b[38;5;241m0.8\u001b[39m, \u001b[38;5;241m1.0\u001b[39m]\n\u001b[0;32m      9\u001b[0m }\n\u001b[0;32m     11\u001b[0m grid_search \u001b[38;5;241m=\u001b[39m GridSearchCV(\n\u001b[0;32m     12\u001b[0m     GradientBoostingClassifier(random_state\u001b[38;5;241m=\u001b[39m\u001b[38;5;241m42\u001b[39m),\n\u001b[0;32m     13\u001b[0m     param_grid,\n\u001b[1;32m   (...)\u001b[0m\n\u001b[0;32m     16\u001b[0m     n_jobs\u001b[38;5;241m=\u001b[39m\u001b[38;5;241m-\u001b[39m\u001b[38;5;241m1\u001b[39m\n\u001b[0;32m     17\u001b[0m )\n\u001b[1;32m---> 18\u001b[0m \u001b[43mgrid_search\u001b[49m\u001b[38;5;241;43m.\u001b[39;49m\u001b[43mfit\u001b[49m\u001b[43m(\u001b[49m\u001b[43mX_train\u001b[49m\u001b[43m,\u001b[49m\u001b[43m \u001b[49m\u001b[43my_train\u001b[49m\u001b[43m)\u001b[49m\n\u001b[0;32m     20\u001b[0m \u001b[38;5;66;03m# Best parameters\u001b[39;00m\n\u001b[0;32m     21\u001b[0m \u001b[38;5;28mprint\u001b[39m(\u001b[38;5;124m\"\u001b[39m\u001b[38;5;124mBest Params:\u001b[39m\u001b[38;5;124m\"\u001b[39m, grid_search\u001b[38;5;241m.\u001b[39mbest_params_)\n",
      "File \u001b[1;32mc:\\Users\\samar\\AppData\\Local\\Programs\\Python\\Python39\\lib\\site-packages\\sklearn\\base.py:1473\u001b[0m, in \u001b[0;36m_fit_context.<locals>.decorator.<locals>.wrapper\u001b[1;34m(estimator, *args, **kwargs)\u001b[0m\n\u001b[0;32m   1466\u001b[0m     estimator\u001b[38;5;241m.\u001b[39m_validate_params()\n\u001b[0;32m   1468\u001b[0m \u001b[38;5;28;01mwith\u001b[39;00m config_context(\n\u001b[0;32m   1469\u001b[0m     skip_parameter_validation\u001b[38;5;241m=\u001b[39m(\n\u001b[0;32m   1470\u001b[0m         prefer_skip_nested_validation \u001b[38;5;129;01mor\u001b[39;00m global_skip_validation\n\u001b[0;32m   1471\u001b[0m     )\n\u001b[0;32m   1472\u001b[0m ):\n\u001b[1;32m-> 1473\u001b[0m     \u001b[38;5;28;01mreturn\u001b[39;00m fit_method(estimator, \u001b[38;5;241m*\u001b[39margs, \u001b[38;5;241m*\u001b[39m\u001b[38;5;241m*\u001b[39mkwargs)\n",
      "File \u001b[1;32mc:\\Users\\samar\\AppData\\Local\\Programs\\Python\\Python39\\lib\\site-packages\\sklearn\\model_selection\\_search.py:1019\u001b[0m, in \u001b[0;36mBaseSearchCV.fit\u001b[1;34m(self, X, y, **params)\u001b[0m\n\u001b[0;32m   1013\u001b[0m     results \u001b[38;5;241m=\u001b[39m \u001b[38;5;28mself\u001b[39m\u001b[38;5;241m.\u001b[39m_format_results(\n\u001b[0;32m   1014\u001b[0m         all_candidate_params, n_splits, all_out, all_more_results\n\u001b[0;32m   1015\u001b[0m     )\n\u001b[0;32m   1017\u001b[0m     \u001b[38;5;28;01mreturn\u001b[39;00m results\n\u001b[1;32m-> 1019\u001b[0m \u001b[38;5;28;43mself\u001b[39;49m\u001b[38;5;241;43m.\u001b[39;49m\u001b[43m_run_search\u001b[49m\u001b[43m(\u001b[49m\u001b[43mevaluate_candidates\u001b[49m\u001b[43m)\u001b[49m\n\u001b[0;32m   1021\u001b[0m \u001b[38;5;66;03m# multimetric is determined here because in the case of a callable\u001b[39;00m\n\u001b[0;32m   1022\u001b[0m \u001b[38;5;66;03m# self.scoring the return type is only known after calling\u001b[39;00m\n\u001b[0;32m   1023\u001b[0m first_test_score \u001b[38;5;241m=\u001b[39m all_out[\u001b[38;5;241m0\u001b[39m][\u001b[38;5;124m\"\u001b[39m\u001b[38;5;124mtest_scores\u001b[39m\u001b[38;5;124m\"\u001b[39m]\n",
      "File \u001b[1;32mc:\\Users\\samar\\AppData\\Local\\Programs\\Python\\Python39\\lib\\site-packages\\sklearn\\model_selection\\_search.py:1573\u001b[0m, in \u001b[0;36mGridSearchCV._run_search\u001b[1;34m(self, evaluate_candidates)\u001b[0m\n\u001b[0;32m   1571\u001b[0m \u001b[38;5;28;01mdef\u001b[39;00m \u001b[38;5;21m_run_search\u001b[39m(\u001b[38;5;28mself\u001b[39m, evaluate_candidates):\n\u001b[0;32m   1572\u001b[0m \u001b[38;5;250m    \u001b[39m\u001b[38;5;124;03m\"\"\"Search all candidates in param_grid\"\"\"\u001b[39;00m\n\u001b[1;32m-> 1573\u001b[0m     \u001b[43mevaluate_candidates\u001b[49m\u001b[43m(\u001b[49m\u001b[43mParameterGrid\u001b[49m\u001b[43m(\u001b[49m\u001b[38;5;28;43mself\u001b[39;49m\u001b[38;5;241;43m.\u001b[39;49m\u001b[43mparam_grid\u001b[49m\u001b[43m)\u001b[49m\u001b[43m)\u001b[49m\n",
      "File \u001b[1;32mc:\\Users\\samar\\AppData\\Local\\Programs\\Python\\Python39\\lib\\site-packages\\sklearn\\model_selection\\_search.py:965\u001b[0m, in \u001b[0;36mBaseSearchCV.fit.<locals>.evaluate_candidates\u001b[1;34m(candidate_params, cv, more_results)\u001b[0m\n\u001b[0;32m    957\u001b[0m \u001b[38;5;28;01mif\u001b[39;00m \u001b[38;5;28mself\u001b[39m\u001b[38;5;241m.\u001b[39mverbose \u001b[38;5;241m>\u001b[39m \u001b[38;5;241m0\u001b[39m:\n\u001b[0;32m    958\u001b[0m     \u001b[38;5;28mprint\u001b[39m(\n\u001b[0;32m    959\u001b[0m         \u001b[38;5;124m\"\u001b[39m\u001b[38;5;124mFitting \u001b[39m\u001b[38;5;132;01m{0}\u001b[39;00m\u001b[38;5;124m folds for each of \u001b[39m\u001b[38;5;132;01m{1}\u001b[39;00m\u001b[38;5;124m candidates,\u001b[39m\u001b[38;5;124m\"\u001b[39m\n\u001b[0;32m    960\u001b[0m         \u001b[38;5;124m\"\u001b[39m\u001b[38;5;124m totalling \u001b[39m\u001b[38;5;132;01m{2}\u001b[39;00m\u001b[38;5;124m fits\u001b[39m\u001b[38;5;124m\"\u001b[39m\u001b[38;5;241m.\u001b[39mformat(\n\u001b[0;32m    961\u001b[0m             n_splits, n_candidates, n_candidates \u001b[38;5;241m*\u001b[39m n_splits\n\u001b[0;32m    962\u001b[0m         )\n\u001b[0;32m    963\u001b[0m     )\n\u001b[1;32m--> 965\u001b[0m out \u001b[38;5;241m=\u001b[39m \u001b[43mparallel\u001b[49m\u001b[43m(\u001b[49m\n\u001b[0;32m    966\u001b[0m \u001b[43m    \u001b[49m\u001b[43mdelayed\u001b[49m\u001b[43m(\u001b[49m\u001b[43m_fit_and_score\u001b[49m\u001b[43m)\u001b[49m\u001b[43m(\u001b[49m\n\u001b[0;32m    967\u001b[0m \u001b[43m        \u001b[49m\u001b[43mclone\u001b[49m\u001b[43m(\u001b[49m\u001b[43mbase_estimator\u001b[49m\u001b[43m)\u001b[49m\u001b[43m,\u001b[49m\n\u001b[0;32m    968\u001b[0m \u001b[43m        \u001b[49m\u001b[43mX\u001b[49m\u001b[43m,\u001b[49m\n\u001b[0;32m    969\u001b[0m \u001b[43m        \u001b[49m\u001b[43my\u001b[49m\u001b[43m,\u001b[49m\n\u001b[0;32m    970\u001b[0m \u001b[43m        \u001b[49m\u001b[43mtrain\u001b[49m\u001b[38;5;241;43m=\u001b[39;49m\u001b[43mtrain\u001b[49m\u001b[43m,\u001b[49m\n\u001b[0;32m    971\u001b[0m \u001b[43m        \u001b[49m\u001b[43mtest\u001b[49m\u001b[38;5;241;43m=\u001b[39;49m\u001b[43mtest\u001b[49m\u001b[43m,\u001b[49m\n\u001b[0;32m    972\u001b[0m \u001b[43m        \u001b[49m\u001b[43mparameters\u001b[49m\u001b[38;5;241;43m=\u001b[39;49m\u001b[43mparameters\u001b[49m\u001b[43m,\u001b[49m\n\u001b[0;32m    973\u001b[0m \u001b[43m        \u001b[49m\u001b[43msplit_progress\u001b[49m\u001b[38;5;241;43m=\u001b[39;49m\u001b[43m(\u001b[49m\u001b[43msplit_idx\u001b[49m\u001b[43m,\u001b[49m\u001b[43m \u001b[49m\u001b[43mn_splits\u001b[49m\u001b[43m)\u001b[49m\u001b[43m,\u001b[49m\n\u001b[0;32m    974\u001b[0m \u001b[43m        \u001b[49m\u001b[43mcandidate_progress\u001b[49m\u001b[38;5;241;43m=\u001b[39;49m\u001b[43m(\u001b[49m\u001b[43mcand_idx\u001b[49m\u001b[43m,\u001b[49m\u001b[43m \u001b[49m\u001b[43mn_candidates\u001b[49m\u001b[43m)\u001b[49m\u001b[43m,\u001b[49m\n\u001b[0;32m    975\u001b[0m \u001b[43m        \u001b[49m\u001b[38;5;241;43m*\u001b[39;49m\u001b[38;5;241;43m*\u001b[39;49m\u001b[43mfit_and_score_kwargs\u001b[49m\u001b[43m,\u001b[49m\n\u001b[0;32m    976\u001b[0m \u001b[43m    \u001b[49m\u001b[43m)\u001b[49m\n\u001b[0;32m    977\u001b[0m \u001b[43m    \u001b[49m\u001b[38;5;28;43;01mfor\u001b[39;49;00m\u001b[43m \u001b[49m\u001b[43m(\u001b[49m\u001b[43mcand_idx\u001b[49m\u001b[43m,\u001b[49m\u001b[43m \u001b[49m\u001b[43mparameters\u001b[49m\u001b[43m)\u001b[49m\u001b[43m,\u001b[49m\u001b[43m \u001b[49m\u001b[43m(\u001b[49m\u001b[43msplit_idx\u001b[49m\u001b[43m,\u001b[49m\u001b[43m \u001b[49m\u001b[43m(\u001b[49m\u001b[43mtrain\u001b[49m\u001b[43m,\u001b[49m\u001b[43m \u001b[49m\u001b[43mtest\u001b[49m\u001b[43m)\u001b[49m\u001b[43m)\u001b[49m\u001b[43m \u001b[49m\u001b[38;5;129;43;01min\u001b[39;49;00m\u001b[43m \u001b[49m\u001b[43mproduct\u001b[49m\u001b[43m(\u001b[49m\n\u001b[0;32m    978\u001b[0m \u001b[43m        \u001b[49m\u001b[38;5;28;43menumerate\u001b[39;49m\u001b[43m(\u001b[49m\u001b[43mcandidate_params\u001b[49m\u001b[43m)\u001b[49m\u001b[43m,\u001b[49m\n\u001b[0;32m    979\u001b[0m \u001b[43m        \u001b[49m\u001b[38;5;28;43menumerate\u001b[39;49m\u001b[43m(\u001b[49m\u001b[43mcv\u001b[49m\u001b[38;5;241;43m.\u001b[39;49m\u001b[43msplit\u001b[49m\u001b[43m(\u001b[49m\u001b[43mX\u001b[49m\u001b[43m,\u001b[49m\u001b[43m \u001b[49m\u001b[43my\u001b[49m\u001b[43m,\u001b[49m\u001b[43m \u001b[49m\u001b[38;5;241;43m*\u001b[39;49m\u001b[38;5;241;43m*\u001b[39;49m\u001b[43mrouted_params\u001b[49m\u001b[38;5;241;43m.\u001b[39;49m\u001b[43msplitter\u001b[49m\u001b[38;5;241;43m.\u001b[39;49m\u001b[43msplit\u001b[49m\u001b[43m)\u001b[49m\u001b[43m)\u001b[49m\u001b[43m,\u001b[49m\n\u001b[0;32m    980\u001b[0m \u001b[43m    \u001b[49m\u001b[43m)\u001b[49m\n\u001b[0;32m    981\u001b[0m \u001b[43m\u001b[49m\u001b[43m)\u001b[49m\n\u001b[0;32m    983\u001b[0m \u001b[38;5;28;01mif\u001b[39;00m \u001b[38;5;28mlen\u001b[39m(out) \u001b[38;5;241m<\u001b[39m \u001b[38;5;241m1\u001b[39m:\n\u001b[0;32m    984\u001b[0m     \u001b[38;5;28;01mraise\u001b[39;00m \u001b[38;5;167;01mValueError\u001b[39;00m(\n\u001b[0;32m    985\u001b[0m         \u001b[38;5;124m\"\u001b[39m\u001b[38;5;124mNo fits were performed. \u001b[39m\u001b[38;5;124m\"\u001b[39m\n\u001b[0;32m    986\u001b[0m         \u001b[38;5;124m\"\u001b[39m\u001b[38;5;124mWas the CV iterator empty? \u001b[39m\u001b[38;5;124m\"\u001b[39m\n\u001b[0;32m    987\u001b[0m         \u001b[38;5;124m\"\u001b[39m\u001b[38;5;124mWere there no candidates?\u001b[39m\u001b[38;5;124m\"\u001b[39m\n\u001b[0;32m    988\u001b[0m     )\n",
      "File \u001b[1;32mc:\\Users\\samar\\AppData\\Local\\Programs\\Python\\Python39\\lib\\site-packages\\sklearn\\utils\\parallel.py:74\u001b[0m, in \u001b[0;36mParallel.__call__\u001b[1;34m(self, iterable)\u001b[0m\n\u001b[0;32m     69\u001b[0m config \u001b[38;5;241m=\u001b[39m get_config()\n\u001b[0;32m     70\u001b[0m iterable_with_config \u001b[38;5;241m=\u001b[39m (\n\u001b[0;32m     71\u001b[0m     (_with_config(delayed_func, config), args, kwargs)\n\u001b[0;32m     72\u001b[0m     \u001b[38;5;28;01mfor\u001b[39;00m delayed_func, args, kwargs \u001b[38;5;129;01min\u001b[39;00m iterable\n\u001b[0;32m     73\u001b[0m )\n\u001b[1;32m---> 74\u001b[0m \u001b[38;5;28;01mreturn\u001b[39;00m \u001b[38;5;28;43msuper\u001b[39;49m\u001b[43m(\u001b[49m\u001b[43m)\u001b[49m\u001b[38;5;241;43m.\u001b[39;49m\u001b[38;5;21;43m__call__\u001b[39;49m\u001b[43m(\u001b[49m\u001b[43miterable_with_config\u001b[49m\u001b[43m)\u001b[49m\n",
      "File \u001b[1;32mc:\\Users\\samar\\AppData\\Local\\Programs\\Python\\Python39\\lib\\site-packages\\joblib\\parallel.py:2007\u001b[0m, in \u001b[0;36mParallel.__call__\u001b[1;34m(self, iterable)\u001b[0m\n\u001b[0;32m   2001\u001b[0m \u001b[38;5;66;03m# The first item from the output is blank, but it makes the interpreter\u001b[39;00m\n\u001b[0;32m   2002\u001b[0m \u001b[38;5;66;03m# progress until it enters the Try/Except block of the generator and\u001b[39;00m\n\u001b[0;32m   2003\u001b[0m \u001b[38;5;66;03m# reaches the first `yield` statement. This starts the asynchronous\u001b[39;00m\n\u001b[0;32m   2004\u001b[0m \u001b[38;5;66;03m# dispatch of the tasks to the workers.\u001b[39;00m\n\u001b[0;32m   2005\u001b[0m \u001b[38;5;28mnext\u001b[39m(output)\n\u001b[1;32m-> 2007\u001b[0m \u001b[38;5;28;01mreturn\u001b[39;00m output \u001b[38;5;28;01mif\u001b[39;00m \u001b[38;5;28mself\u001b[39m\u001b[38;5;241m.\u001b[39mreturn_generator \u001b[38;5;28;01melse\u001b[39;00m \u001b[38;5;28;43mlist\u001b[39;49m\u001b[43m(\u001b[49m\u001b[43moutput\u001b[49m\u001b[43m)\u001b[49m\n",
      "File \u001b[1;32mc:\\Users\\samar\\AppData\\Local\\Programs\\Python\\Python39\\lib\\site-packages\\joblib\\parallel.py:1650\u001b[0m, in \u001b[0;36mParallel._get_outputs\u001b[1;34m(self, iterator, pre_dispatch)\u001b[0m\n\u001b[0;32m   1647\u001b[0m     \u001b[38;5;28;01myield\u001b[39;00m\n\u001b[0;32m   1649\u001b[0m     \u001b[38;5;28;01mwith\u001b[39;00m \u001b[38;5;28mself\u001b[39m\u001b[38;5;241m.\u001b[39m_backend\u001b[38;5;241m.\u001b[39mretrieval_context():\n\u001b[1;32m-> 1650\u001b[0m         \u001b[38;5;28;01myield from\u001b[39;00m \u001b[38;5;28mself\u001b[39m\u001b[38;5;241m.\u001b[39m_retrieve()\n\u001b[0;32m   1652\u001b[0m \u001b[38;5;28;01mexcept\u001b[39;00m \u001b[38;5;167;01mGeneratorExit\u001b[39;00m:\n\u001b[0;32m   1653\u001b[0m     \u001b[38;5;66;03m# The generator has been garbage collected before being fully\u001b[39;00m\n\u001b[0;32m   1654\u001b[0m     \u001b[38;5;66;03m# consumed. This aborts the remaining tasks if possible and warn\u001b[39;00m\n\u001b[0;32m   1655\u001b[0m     \u001b[38;5;66;03m# the user if necessary.\u001b[39;00m\n\u001b[0;32m   1656\u001b[0m     \u001b[38;5;28mself\u001b[39m\u001b[38;5;241m.\u001b[39m_exception \u001b[38;5;241m=\u001b[39m \u001b[38;5;28;01mTrue\u001b[39;00m\n",
      "File \u001b[1;32mc:\\Users\\samar\\AppData\\Local\\Programs\\Python\\Python39\\lib\\site-packages\\joblib\\parallel.py:1762\u001b[0m, in \u001b[0;36mParallel._retrieve\u001b[1;34m(self)\u001b[0m\n\u001b[0;32m   1757\u001b[0m \u001b[38;5;66;03m# If the next job is not ready for retrieval yet, we just wait for\u001b[39;00m\n\u001b[0;32m   1758\u001b[0m \u001b[38;5;66;03m# async callbacks to progress.\u001b[39;00m\n\u001b[0;32m   1759\u001b[0m \u001b[38;5;28;01mif\u001b[39;00m ((\u001b[38;5;28mlen\u001b[39m(\u001b[38;5;28mself\u001b[39m\u001b[38;5;241m.\u001b[39m_jobs) \u001b[38;5;241m==\u001b[39m \u001b[38;5;241m0\u001b[39m) \u001b[38;5;129;01mor\u001b[39;00m\n\u001b[0;32m   1760\u001b[0m     (\u001b[38;5;28mself\u001b[39m\u001b[38;5;241m.\u001b[39m_jobs[\u001b[38;5;241m0\u001b[39m]\u001b[38;5;241m.\u001b[39mget_status(\n\u001b[0;32m   1761\u001b[0m         timeout\u001b[38;5;241m=\u001b[39m\u001b[38;5;28mself\u001b[39m\u001b[38;5;241m.\u001b[39mtimeout) \u001b[38;5;241m==\u001b[39m TASK_PENDING)):\n\u001b[1;32m-> 1762\u001b[0m     \u001b[43mtime\u001b[49m\u001b[38;5;241;43m.\u001b[39;49m\u001b[43msleep\u001b[49m\u001b[43m(\u001b[49m\u001b[38;5;241;43m0.01\u001b[39;49m\u001b[43m)\u001b[49m\n\u001b[0;32m   1763\u001b[0m     \u001b[38;5;28;01mcontinue\u001b[39;00m\n\u001b[0;32m   1765\u001b[0m \u001b[38;5;66;03m# We need to be careful: the job list can be filling up as\u001b[39;00m\n\u001b[0;32m   1766\u001b[0m \u001b[38;5;66;03m# we empty it and Python list are not thread-safe by\u001b[39;00m\n\u001b[0;32m   1767\u001b[0m \u001b[38;5;66;03m# default hence the use of the lock\u001b[39;00m\n",
      "\u001b[1;31mKeyboardInterrupt\u001b[0m: "
     ]
    }
   ],
   "source": [
    "params = {\n",
    "    'n_estimators': 200,\n",
    "    'learning_rate': 0.01,\n",
    "    'max_depth': 5,\n",
    "    'subsample': 0.9,\n",
    "    'random_state': 42\n",
    "}\n",
    "model = GradientBoostingClassifier(**params)\n",
    "model.fit(X_train, y_train)"
   ]
  },
  {
   "cell_type": "code",
   "execution_count": null,
   "metadata": {},
   "outputs": [
    {
     "name": "stdout",
     "output_type": "stream",
     "text": [
      "Accuracy: 0.4845036844386649\n"
     ]
    }
   ],
   "source": [
    "#Ensure consistent scaling for feature\n",
    "\n",
    "from sklearn.preprocessing import StandardScaler\n",
    "\n",
    "scaler = StandardScaler()\n",
    "X_train_scaled = scaler.fit_transform(X_train)\n",
    "X_val_scaled = scaler.transform(X_val)\n",
    "\n",
    "model.fit(X_train_scaled, y_train)\n",
    "y_pred = model.predict(X_val_scaled)\n",
    "print(\"Accuracy:\", accuracy_score(y_val, y_pred))"
   ]
  },
  {
   "cell_type": "code",
   "execution_count": null,
   "metadata": {},
   "outputs": [
    {
     "name": "stdout",
     "output_type": "stream",
     "text": [
      "Accuracy: 0.4620719549198093\n"
     ]
    }
   ],
   "source": [
    "#Use SMOTE\n",
    "from imblearn.over_sampling import SMOTE\n",
    "\n",
    "sm = SMOTE(random_state=42)\n",
    "X_train_resampled, y_train_resampled = sm.fit_resample(X_train, y_train)\n",
    "\n",
    "model.fit(X_train_resampled, y_train_resampled)\n",
    "y_pred = model.predict(X_val)\n",
    "print(\"Accuracy:\", accuracy_score(y_val, y_pred))"
   ]
  },
  {
   "cell_type": "code",
   "execution_count": null,
   "metadata": {},
   "outputs": [],
   "source": [
    "#Reduce noise by selecting relevant features\n",
    "\n",
    "from sklearn.feature_selection import SelectFromModel\n",
    "\n",
    "feature_selector = SelectFromModel(model, threshold='median')\n",
    "X_train_selected = feature_selector.fit_transform(X_train, y_train)\n",
    "X_val_selected = feature_selector.transform(X_val)\n",
    "\n",
    "model.fit(X_train_selected, y_train)\n",
    "y_pred = model.predict(X_val_selected)\n",
    "print(\"Accuracy with Feature Selection:\", accuracy_score(y_val, y_pred))"
   ]
  },
  {
   "cell_type": "code",
   "execution_count": null,
   "metadata": {},
   "outputs": [],
   "source": [
    "#Use early stopping to avoid overfitting\n",
    "from sklearn.ensemble import GradientBoostingClassifier\n",
    "\n",
    "model = GradientBoostingClassifier(\n",
    "    n_estimators=1000,\n",
    "    learning_rate=0.1,\n",
    "    max_depth=5,\n",
    "    subsample=0.8,\n",
    "    random_state=42,\n",
    "    validation_fraction=0.1,\n",
    "    n_iter_no_change=10\n",
    ")\n",
    "model.fit(X_train, y_train)\n",
    "y_pred = model.predict(X_val)\n",
    "print(\"Accuracy:\", accuracy_score(y_val, y_pred))"
   ]
  },
  {
   "cell_type": "code",
   "execution_count": null,
   "metadata": {},
   "outputs": [],
   "source": [
    "cm = confusion_matrix(y_val, y_pred, normalize='true')\n",
    "ConfusionMatrixDisplay(cm, display_labels=['HOME_WINS', 'DRAW', 'AWAY_WINS']).plot()"
   ]
  },
  {
   "cell_type": "markdown",
   "metadata": {},
   "source": [
    "Nous pouvons remarquer avec les figures ci-dessus l'évolution du score par rapport au nombre de voisins pour chaque métrique utilisé. Nous observons l'effet du overfitting quand nous avons un nombre des voisins faibles. C'est possible de remarquer aussi une stabilisation de l'évolution du score après 100 voisins.!!!!!"
   ]
  },
  {
   "cell_type": "markdown",
   "metadata": {},
   "source": [
    "### XGBClassifier"
   ]
  },
  {
   "cell_type": "markdown",
   "metadata": {},
   "source": [
    "Highly efficient for tabular data and supports multi-class classification. Offers regularization for better generalization."
   ]
  },
  {
   "cell_type": "code",
   "execution_count": null,
   "metadata": {},
   "outputs": [],
   "source": [
    "# Optimize Model Parameters \n",
    "from sklearn.model_selection import GridSearchCV\n",
    "import xgboost\n",
    "\n",
    "param_grid = {\n",
    "    'max_depth': [6, 8, 10],\n",
    "    'learning_rate': [0.01, 0.025, 0.05],\n",
    "    'n_estimators': [500, 1000],\n",
    "    'colsample_bytree': [0.6, 0.8],\n",
    "    'subsample': [0.8, 1.0],\n",
    "}\n",
    "grid_search = GridSearchCV(xgboost.XGBClassifier(objective='multi:softprob', num_class=3), param_grid, cv=3)\n",
    "grid_search.fit(X_train, y_train)\n",
    "print(grid_search.best_params_)"
   ]
  },
  {
   "cell_type": "code",
   "execution_count": null,
   "metadata": {},
   "outputs": [
    {
     "name": "stdout",
     "output_type": "stream",
     "text": [
      "Accuracy: 0.4710663198959688\n"
     ]
    }
   ],
   "source": [
    "params_1 = {\n",
    "    'max_depth': 10,\n",
    "    'learning_rate': 0.05,\n",
    "    'n_estimators': 1000,\n",
    "    'colsample_bytree': 0.8,\n",
    "    'subsample': 1.0,\n",
    "}\n",
    "modelXGB = xgb.XGBClassifier(params_1)\n",
    "modelXGB.fit(X_train, y_train)\n",
    "\n",
    "# Evaluate\n",
    "y_pred = modelXGB.predict(X_val) \n",
    "print(\"Accuracy:\", accuracy_score(y_val, y_pred))"
   ]
  },
  {
   "cell_type": "code",
   "execution_count": null,
   "metadata": {},
   "outputs": [],
   "source": [
    "cm = confusion_matrix(y_val, y_pred, normalize='true')\n",
    "ConfusionMatrixDisplay(cm, display_labels=['HOME_WINS', 'DRAW', 'AWAY_WINS']).plot()"
   ]
  },
  {
   "cell_type": "code",
   "execution_count": null,
   "metadata": {},
   "outputs": [],
   "source": [
    "#SHAP values can explain the influence of each feature (and its values) on individual predictions.\n",
    "import shap\n",
    "\n",
    "# Explain the model's predictions using SHAP\n",
    "explainer = shap.TreeExplainer(modelXGB)\n",
    "shap_values = explainer.shap_values(X_train)\n",
    "\n",
    "# Visualize for 'POSITION'\n",
    "shap.summary_plot(shap_values, X_train, feature_names=X_train.columns)"
   ]
  },
  {
   "cell_type": "markdown",
   "metadata": {},
   "source": [
    "### Random Forest Classifier"
   ]
  },
  {
   "cell_type": "markdown",
   "metadata": {},
   "source": [
    "Captures non-linear relationships and works well with feature importance analysis."
   ]
  },
  {
   "cell_type": "code",
   "execution_count": null,
   "metadata": {},
   "outputs": [
    {
     "name": "stdout",
     "output_type": "stream",
     "text": [
      "Accuracy: 0.4755093194625054\n"
     ]
    }
   ],
   "source": [
    "from sklearn.ensemble import RandomForestClassifier\n",
    "\n",
    "# Random Forest Classifier\n",
    "rf_model = RandomForestClassifier(n_estimators=100, random_state=42)\n",
    "rf_model.fit(X_train, y_train)\n",
    "rf_preds = rf_model.predict(X_val)\n",
    "rf_accuracy = accuracy_score(y_val, rf_preds)\n",
    "print(\"Accuracy:\", rf_accuracy)"
   ]
  },
  {
   "cell_type": "code",
   "execution_count": null,
   "metadata": {},
   "outputs": [
    {
     "name": "stdout",
     "output_type": "stream",
     "text": [
      "Best Random Forest Params: {'max_depth': 10, 'min_samples_split': 2, 'n_estimators': 100}\n"
     ]
    }
   ],
   "source": [
    "from sklearn.model_selection import GridSearchCV\n",
    "\n",
    "# Hyperparameter Tuning for Random Forest\n",
    "rf_params = {\n",
    "    'n_estimators': [100, 200],\n",
    "    'max_depth': [5, 10],\n",
    "    'min_samples_split': [2, 5],\n",
    "}\n",
    "grid_search_rf = GridSearchCV(RandomForestClassifier(random_state=42), rf_params, cv=5)\n",
    "grid_search_rf.fit(X_train, y_train)\n",
    "print(f\"Best Random Forest Params: {grid_search_rf.best_params_}\")"
   ]
  },
  {
   "cell_type": "code",
   "execution_count": null,
   "metadata": {},
   "outputs": [
    {
     "name": "stdout",
     "output_type": "stream",
     "text": [
      "Accuracy: 0.4822280017338535\n"
     ]
    }
   ],
   "source": [
    "# Random Forest Classifier\n",
    "rf_model_improved = RandomForestClassifier(n_estimators= 100, random_state= 42, max_depth= 10, min_samples_split= 2)\n",
    "rf_model_improved.fit(X_train, y_train)\n",
    "rf_preds = rf_model_improved.predict(X_val)\n",
    "rf_accuracy = accuracy_score(y_val, rf_preds)\n",
    "print(\"Accuracy:\", rf_accuracy)"
   ]
  },
  {
   "cell_type": "code",
   "execution_count": null,
   "metadata": {},
   "outputs": [
    {
     "data": {
      "text/plain": [
       "array([0, 2, 0, ..., 2, 2, 0])"
      ]
     },
     "execution_count": 37,
     "metadata": {},
     "output_type": "execute_result"
    }
   ],
   "source": [
    "rf_preds"
   ]
  },
  {
   "cell_type": "markdown",
   "metadata": {},
   "source": [
    "### Logistic Regression"
   ]
  },
  {
   "cell_type": "markdown",
   "metadata": {},
   "source": [
    "Simple and interpretable, suitable if the relationships are mostly linear."
   ]
  },
  {
   "cell_type": "code",
   "execution_count": null,
   "metadata": {},
   "outputs": [],
   "source": [
    "from sklearn.linear_model import LogisticRegression\n",
    "model_logistic_reg = LogisticRegression(multi_class='multinomial', solver='lbfgs', random_state=42)\n",
    "model_logistic_reg.fit(X_train, y_train)\n",
    "y_pred = model_logistic_reg.predict(X_val)"
   ]
  },
  {
   "cell_type": "code",
   "execution_count": null,
   "metadata": {},
   "outputs": [
    {
     "name": "stdout",
     "output_type": "stream",
     "text": [
      "Accuracy: 0.47919375812743825\n"
     ]
    }
   ],
   "source": [
    "accuracy = accuracy_score(y_val, y_pred)\n",
    "print(\"Accuracy:\", accuracy)"
   ]
  },
  {
   "cell_type": "markdown",
   "metadata": {},
   "source": [
    "### Neural Networks"
   ]
  },
  {
   "cell_type": "markdown",
   "metadata": {},
   "source": [
    "Effective if your dataset is large and complex. Can model interactions between features that traditional models might miss."
   ]
  },
  {
   "cell_type": "code",
   "execution_count": null,
   "metadata": {},
   "outputs": [
    {
     "name": "stdout",
     "output_type": "stream",
     "text": [
      "Accuracy: 0.39434330299089726\n"
     ]
    }
   ],
   "source": [
    "from sklearn.neural_network import MLPClassifier\n",
    "model = MLPClassifier(hidden_layer_sizes=(64, 32), activation='relu', random_state=42)\n",
    "model.fit(X_train, y_train)\n",
    "y_pred = model.predict(X_val)\n",
    "accuracy = accuracy_score(y_val, y_pred)\n",
    "print(\"Accuracy:\", accuracy)"
   ]
  },
  {
   "cell_type": "markdown",
   "metadata": {},
   "source": [
    "###  Ensemble Methods"
   ]
  },
  {
   "cell_type": "markdown",
   "metadata": {},
   "source": [
    "Combine predictions from multiple models (e.g., Random Forest + Gradient Boosting) to improve robustness."
   ]
  },
  {
   "cell_type": "code",
   "execution_count": null,
   "metadata": {},
   "outputs": [
    {
     "name": "stdout",
     "output_type": "stream",
     "text": [
      "Accuracy: 0.48255309926311224\n"
     ]
    }
   ],
   "source": [
    "from sklearn.ensemble import VotingClassifier\n",
    "from sklearn.ensemble import RandomForestClassifier\n",
    "\n",
    "model1 = RandomForestClassifier(random_state=42)\n",
    "model2 = GradientBoostingClassifier(random_state=42)\n",
    "ensemble = VotingClassifier(estimators=[('rf', model1), ('gb', model2)], voting='soft')\n",
    "ensemble.fit(X_train, y_train)\n",
    "y_pred = ensemble.predict(X_val)\n",
    "accuracy = accuracy_score(y_val, y_pred)\n",
    "print(\"Accuracy:\", accuracy)"
   ]
  },
  {
   "cell_type": "markdown",
   "metadata": {},
   "source": [
    "### Support Vector Machine (SVM)"
   ]
  },
  {
   "cell_type": "markdown",
   "metadata": {},
   "source": [
    "Effective for smaller datasets with clear class boundaries but may not scale well."
   ]
  },
  {
   "cell_type": "code",
   "execution_count": null,
   "metadata": {},
   "outputs": [
    {
     "name": "stdout",
     "output_type": "stream",
     "text": [
      "SVM Accuracy: 0.4359557867360208\n"
     ]
    }
   ],
   "source": [
    "from sklearn.svm import SVC\n",
    "from sklearn.metrics import accuracy_score\n",
    "\n",
    "# Initialize the SVM model\n",
    "svm_model = SVC(kernel='rbf', probability=True, random_state=42)\n",
    "\n",
    "# Train the model\n",
    "svm_model.fit(X_train, y_train)\n",
    "\n",
    "# Make predictions\n",
    "svm_preds = svm_model.predict(X_val)\n",
    "\n",
    "# Evaluate the model\n",
    "svm_accuracy = accuracy_score(y_val, svm_preds)\n",
    "print(\"SVM Accuracy:\", svm_accuracy)"
   ]
  },
  {
   "cell_type": "markdown",
   "metadata": {},
   "source": [
    "### CatBoost"
   ]
  },
  {
   "cell_type": "markdown",
   "metadata": {},
   "source": [
    "Handles categorical features without requiring one-hot encoding and is robust for tabular data."
   ]
  },
  {
   "cell_type": "code",
   "execution_count": null,
   "metadata": {},
   "outputs": [
    {
     "ename": "ModuleNotFoundError",
     "evalue": "No module named 'catboost'",
     "output_type": "error",
     "traceback": [
      "\u001b[1;31m---------------------------------------------------------------------------\u001b[0m",
      "\u001b[1;31mModuleNotFoundError\u001b[0m                       Traceback (most recent call last)",
      "Cell \u001b[1;32mIn[32], line 1\u001b[0m\n\u001b[1;32m----> 1\u001b[0m \u001b[38;5;28;01mfrom\u001b[39;00m \u001b[38;5;21;01mcatboost\u001b[39;00m \u001b[38;5;28;01mimport\u001b[39;00m CatBoostClassifier\n\u001b[0;32m      2\u001b[0m \u001b[38;5;28;01mfrom\u001b[39;00m \u001b[38;5;21;01msklearn\u001b[39;00m\u001b[38;5;21;01m.\u001b[39;00m\u001b[38;5;21;01mmetrics\u001b[39;00m \u001b[38;5;28;01mimport\u001b[39;00m accuracy_score\n\u001b[0;32m      4\u001b[0m \u001b[38;5;66;03m# Initialize the CatBoost model\u001b[39;00m\n",
      "\u001b[1;31mModuleNotFoundError\u001b[0m: No module named 'catboost'"
     ]
    }
   ],
   "source": [
    "from catboost import CatBoostClassifier\n",
    "from sklearn.metrics import accuracy_score\n",
    "\n",
    "# Initialize the CatBoost model\n",
    "catboost_model = CatBoostClassifier(iterations=500, depth=6, learning_rate=0.1, random_seed=42, verbose=0)\n",
    "\n",
    "# Train the model\n",
    "catboost_model.fit(X_train, y_train)\n",
    "\n",
    "# Make predictions\n",
    "catboost_preds = catboost_model.predict(X_val)\n",
    "\n",
    "# Evaluate the model\n",
    "catboost_accuracy = accuracy_score(y_val, catboost_preds)\n",
    "print(\"CatBoost Accuracy:\", catboost_accuracy)"
   ]
  },
  {
   "cell_type": "markdown",
   "metadata": {},
   "source": [
    "### K-Nearest Neighbors (KNN)"
   ]
  },
  {
   "cell_type": "code",
   "execution_count": null,
   "metadata": {},
   "outputs": [
    {
     "name": "stdout",
     "output_type": "stream",
     "text": [
      "KNN Accuracy: 0.41211530125704376\n"
     ]
    }
   ],
   "source": [
    "from sklearn.neighbors import KNeighborsClassifier\n",
    "from sklearn.metrics import accuracy_score\n",
    "\n",
    "# Initialize the KNN model\n",
    "knn_model = KNeighborsClassifier(n_neighbors=5)\n",
    "\n",
    "# Train the model\n",
    "knn_model.fit(X_train, y_train)\n",
    "\n",
    "# Make predictions\n",
    "knn_preds = knn_model.predict(X_val)\n",
    "\n",
    "# Evaluate the model\n",
    "knn_accuracy = accuracy_score(y_val, knn_preds)\n",
    "print(\"KNN Accuracy:\", knn_accuracy)"
   ]
  },
  {
   "cell_type": "markdown",
   "metadata": {},
   "source": [
    "## Analyse du Score"
   ]
  },
  {
   "cell_type": "code",
   "execution_count": null,
   "metadata": {},
   "outputs": [],
   "source": [
    "pd.DataFrame(\n",
    "    {'score': [score_knn, score_xgb, score_xgb_var_imp, score_lgb, score_reglog, score_reglog_hyp, score_rf, score_rf_nb, score_rf_selected]},  \n",
    "    index=['KNN Score', 'XGB Score', 'XGB Variable Importance Score', 'LGBM Score', 'Reg Logistique Score',\n",
    "            'Reg Logistique Opt Hyparam', 'Random Forest Score', 'Random Forest No Bootstrap Score', \n",
    "            'Random Forest Selected Features']).sort_values(by='score', ascending=False)"
   ]
  },
  {
   "cell_type": "markdown",
   "metadata": {},
   "source": [
    "#### Submission"
   ]
  },
  {
   "cell_type": "code",
   "execution_count": null,
   "metadata": {},
   "outputs": [
    {
     "name": "stdout",
     "output_type": "stream",
     "text": [
      "25368 25368\n"
     ]
    }
   ],
   "source": [
    "home_players_test = pd.read_csv(home_player_test)\n",
    "away_players_test = pd.read_csv(away_player_test)\n",
    "\n",
    "num_distinct_ids = home_players_test['ID'].nunique()\n",
    "num_distinct_ids1 = away_players_test['ID'].nunique()"
   ]
  },
  {
   "cell_type": "code",
   "execution_count": null,
   "metadata": {},
   "outputs": [
    {
     "name": "stdout",
     "output_type": "stream",
     "text": [
      "25368 25368\n"
     ]
    }
   ],
   "source": [
    "home_players_test['POSITION'] = home_players_test['POSITION'].replace({'defender': 1, 'midfielder': 2, 'attacker': 3, 'goalkeeper': 4, '': 0, np.nan: 0})\n",
    "away_players_test['POSITION'] = away_players_test['POSITION'].replace({'defender': 1, 'midfielder': 2, 'attacker': 3, 'goalkeeper': 4, '': 0, np.nan: 0})\n",
    "\n",
    "num_distinct_ids2 = home_players_test['ID'].nunique()\n",
    "num_distinct_ids3 = away_players_test['ID'].nunique()"
   ]
  },
  {
   "cell_type": "code",
   "execution_count": 57,
   "metadata": {},
   "outputs": [],
   "source": [
    "# Aggregate player stats by ID and POSITION \n",
    "home_team_stats = home_players_test.groupby(by = ['ID', 'POSITION'], as_index=False).mean()\n",
    "away_team_stats = away_players_test.groupby(by = ['ID', 'POSITION'], as_index=False).mean()"
   ]
  },
  {
   "cell_type": "code",
   "execution_count": 75,
   "metadata": {},
   "outputs": [],
   "source": [
    "# Merge on match ID and POSITION\n",
    "team_comparison_test = pd.merge(home_team_stats, away_team_stats, on=['ID', 'POSITION'], suffixes=('_home', '_away'), how='outer').fillna(0)"
   ]
  },
  {
   "cell_type": "code",
   "execution_count": 76,
   "metadata": {},
   "outputs": [],
   "source": [
    "for column_name in team_comparison_test.columns:\n",
    "    if column_name.endswith('_home'):  # Ensure we're processing only '_home' columns\n",
    "        prefix = column_name[:-5]  # Remove '_home' to get the base column name\n",
    "        team_comparison_test[prefix + '_diff'] = (\n",
    "            team_comparison_test[column_name] - team_comparison_test[prefix + '_away']\n",
    "        )\n"
   ]
  },
  {
   "cell_type": "code",
   "execution_count": null,
   "metadata": {},
   "outputs": [],
   "source": [
    "def generate_test_submission(model):\n",
    "    predictions = model.predict(team_comparison_test)\n",
    "    team_comparison_test.set_index('ID', inplace=True)\n",
    "    predictions_sub = np.zeros((predictions.size, 3))\n",
    "    for i in range(predictions.size):\n",
    "        predictions_sub[i][predictions[i]] = 1\n",
    "    predictions_sub = pd.DataFrame(predictions_sub, dtype=int)\n",
    "    predictions_sub.columns = ['HOME_WINS', 'DRAW', 'AWAY_WINS']\n",
    "\n",
    "    predictions_sub.index = team_comparison_test.index\n",
    "    submission = predictions_sub.reset_index()\n",
    "    submission = submission.groupby('ID').sum().div(4).round().astype(int).reset_index()\n",
    "    return submission"
   ]
  },
  {
   "cell_type": "markdown",
   "metadata": {},
   "source": [
    "#### Gradient Boosting submission"
   ]
  },
  {
   "cell_type": "code",
   "execution_count": null,
   "metadata": {},
   "outputs": [],
   "source": [
    "GB_submission = generate_test_submission(model)\n",
    "GB_submission.to_csv(file_path + \"/submission_gb.csv\", index=False)"
   ]
  },
  {
   "cell_type": "markdown",
   "metadata": {},
   "source": [
    "#### RF Submission"
   ]
  },
  {
   "cell_type": "code",
   "execution_count": null,
   "metadata": {},
   "outputs": [
    {
     "data": {
      "text/plain": [
       "array([0, 2, 0, ..., 0, 0, 0], dtype=int64)"
      ]
     },
     "execution_count": 172,
     "metadata": {},
     "output_type": "execute_result"
    }
   ],
   "source": [
    "RF_submission = generate_test_submission(rf_model_improved)\n",
    "RF_submission.to_csv(file_path + \"/submission_rf.csv\", index=False)"
   ]
  },
  {
   "cell_type": "markdown",
   "metadata": {},
   "source": [
    "#### Logistic Regression submission"
   ]
  },
  {
   "cell_type": "code",
   "execution_count": null,
   "metadata": {},
   "outputs": [],
   "source": [
    "logistic_reg_submission = generate_test_submission(model_logistic_reg)\n",
    "logistic_reg_submission.to_csv(file_path + \"/submission_logistic_reg.csv\", index=False)"
   ]
  },
  {
   "cell_type": "markdown",
   "metadata": {},
   "source": [
    "#### Ensemble Methods submission"
   ]
  },
  {
   "cell_type": "code",
   "execution_count": null,
   "metadata": {},
   "outputs": [
    {
     "data": {
      "text/html": [
       "<div>\n",
       "<style scoped>\n",
       "    .dataframe tbody tr th:only-of-type {\n",
       "        vertical-align: middle;\n",
       "    }\n",
       "\n",
       "    .dataframe tbody tr th {\n",
       "        vertical-align: top;\n",
       "    }\n",
       "\n",
       "    .dataframe thead th {\n",
       "        text-align: right;\n",
       "    }\n",
       "</style>\n",
       "<table border=\"1\" class=\"dataframe\">\n",
       "  <thead>\n",
       "    <tr style=\"text-align: right;\">\n",
       "      <th></th>\n",
       "      <th>ID</th>\n",
       "      <th>HOME_WINS</th>\n",
       "      <th>DRAW</th>\n",
       "      <th>AWAY_WINS</th>\n",
       "    </tr>\n",
       "  </thead>\n",
       "  <tbody>\n",
       "    <tr>\n",
       "      <th>0</th>\n",
       "      <td>12303</td>\n",
       "      <td>1</td>\n",
       "      <td>0</td>\n",
       "      <td>0</td>\n",
       "    </tr>\n",
       "    <tr>\n",
       "      <th>1</th>\n",
       "      <td>12304</td>\n",
       "      <td>1</td>\n",
       "      <td>0</td>\n",
       "      <td>0</td>\n",
       "    </tr>\n",
       "    <tr>\n",
       "      <th>2</th>\n",
       "      <td>12305</td>\n",
       "      <td>1</td>\n",
       "      <td>0</td>\n",
       "      <td>0</td>\n",
       "    </tr>\n",
       "    <tr>\n",
       "      <th>3</th>\n",
       "      <td>12306</td>\n",
       "      <td>1</td>\n",
       "      <td>0</td>\n",
       "      <td>0</td>\n",
       "    </tr>\n",
       "    <tr>\n",
       "      <th>4</th>\n",
       "      <td>12307</td>\n",
       "      <td>1</td>\n",
       "      <td>0</td>\n",
       "      <td>0</td>\n",
       "    </tr>\n",
       "    <tr>\n",
       "      <th>...</th>\n",
       "      <td>...</td>\n",
       "      <td>...</td>\n",
       "      <td>...</td>\n",
       "      <td>...</td>\n",
       "    </tr>\n",
       "    <tr>\n",
       "      <th>25363</th>\n",
       "      <td>37666</td>\n",
       "      <td>1</td>\n",
       "      <td>0</td>\n",
       "      <td>0</td>\n",
       "    </tr>\n",
       "    <tr>\n",
       "      <th>25364</th>\n",
       "      <td>37667</td>\n",
       "      <td>1</td>\n",
       "      <td>0</td>\n",
       "      <td>0</td>\n",
       "    </tr>\n",
       "    <tr>\n",
       "      <th>25365</th>\n",
       "      <td>37668</td>\n",
       "      <td>1</td>\n",
       "      <td>0</td>\n",
       "      <td>0</td>\n",
       "    </tr>\n",
       "    <tr>\n",
       "      <th>25366</th>\n",
       "      <td>37669</td>\n",
       "      <td>1</td>\n",
       "      <td>0</td>\n",
       "      <td>0</td>\n",
       "    </tr>\n",
       "    <tr>\n",
       "      <th>25367</th>\n",
       "      <td>37670</td>\n",
       "      <td>1</td>\n",
       "      <td>0</td>\n",
       "      <td>0</td>\n",
       "    </tr>\n",
       "  </tbody>\n",
       "</table>\n",
       "<p>25368 rows × 4 columns</p>\n",
       "</div>"
      ],
      "text/plain": [
       "          ID  HOME_WINS  DRAW  AWAY_WINS\n",
       "0      12303          1     0          0\n",
       "1      12304          1     0          0\n",
       "2      12305          1     0          0\n",
       "3      12306          1     0          0\n",
       "4      12307          1     0          0\n",
       "...      ...        ...   ...        ...\n",
       "25363  37666          1     0          0\n",
       "25364  37667          1     0          0\n",
       "25365  37668          1     0          0\n",
       "25366  37669          1     0          0\n",
       "25367  37670          1     0          0\n",
       "\n",
       "[25368 rows x 4 columns]"
      ]
     },
     "execution_count": 77,
     "metadata": {},
     "output_type": "execute_result"
    }
   ],
   "source": [
    "ensemble_submission = generate_test_submission(ensemble)\n",
    "ensemble_submission.to_csv(file_path + \"/submission_logistic_reg.csv\", index=False) #0.40917691579943233 "
   ]
  },
  {
   "cell_type": "markdown",
   "metadata": {},
   "source": [
    "#### XGBClassifier submission"
   ]
  },
  {
   "cell_type": "code",
   "execution_count": null,
   "metadata": {},
   "outputs": [],
   "source": [
    "xgb_submission = generate_test_submission(modelXGB)\n",
    "xgb_submission.to_csv(file_path + \"/submission_logistic_reg.csv\", index=False)"
   ]
  }
 ],
 "metadata": {
  "kernelspec": {
   "display_name": "Python 3",
   "language": "python",
   "name": "python3"
  },
  "language_info": {
   "codemirror_mode": {
    "name": "ipython",
    "version": 3
   },
   "file_extension": ".py",
   "mimetype": "text/x-python",
   "name": "python",
   "nbconvert_exporter": "python",
   "pygments_lexer": "ipython3",
   "version": "3.9.13"
  }
 },
 "nbformat": 4,
 "nbformat_minor": 2
}
